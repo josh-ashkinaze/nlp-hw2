{
 "cells": [
  {
   "cell_type": "markdown",
   "metadata": {},
   "source": [
    "# Homework 2 Part 4: Attention-based classification\n",
    "\n",
    "This last part of homework 2 will have you _using_ the vectors we learned from your word2vec implementation to do classification. You should complete the initial word2vec part before before starting on this.\n",
    "\n",
    "Broadly, this last part of the homework consists of a few major steps:\n",
    "1. Load in the data, word vectors, and word-indexing\n",
    "2. Define the attention-based classification network\n",
    "3. Train your model at least one epoch (2+ is recommended though).\n",
    "4. Perform exploratory analyses on attention\n",
    "5. Test the effects of freezing the pre-trained word vectors (see homework PDF for details)\n",
    "\n",
    "After Step 2, you should be able to train your classifier implementation on a small percent of the dataset and verify that it's learning correctly. **Please note that this list is a general sketch and the homework PDF has the full list/description of to-dos and all your deliverables.**\n",
    "\n",
    "\n",
    "### Estimated performance times\n",
    "\n",
    "We designed this homework to be run on a laptop-grade CPU, so no GPU is required. If your primary computing device is a tablet or similar device, this homework can also be _developed_ on that device but then run on a more powerful machine in the Great Lakes cluster (for free). Such cases are the exception though. Following, we report on the estimated times from our reference implementation for longer-running or data-intensive pieces of the homework. Your timing may vary based on implementation design; major differences in time (e.g., 10x longer) usually point to a performance bug.\n",
    "\n",
    "* Reading data, tokenizing, and converting to ids: ~20 seconds\n",
    "* Training one epoch: ~18 minutes\n",
    "* Training one epoch using frozen embeddings: ~3 minutes\n",
    "* Evaluating on dev/test set: ~5 seconds"
   ]
  },
  {
   "cell_type": "code",
   "execution_count": 14,
   "metadata": {},
   "outputs": [],
   "source": [
    "import numpy as np\n",
    "import torch\n",
    "from torch.utils.data import Dataset, DataLoader\n",
    "\n",
    "np.random.seed(42)\n",
    "import torch\n",
    "import torch.nn as nn\n",
    "import torch.nn.functional as F\n",
    "from torch.nn import init\n",
    "from tqdm.auto import tqdm, trange\n",
    "from collections import Counter\n",
    "import random\n",
    "from torch import optim\n",
    "\n",
    "import pandas as pd\n",
    "import pickle\n",
    "\n",
    "import wandb\n",
    "\n",
    "import numpy as np\n",
    "import matplotlib\n",
    "import matplotlib.pyplot as plt\n",
    "from sklearn.metrics import f1_score\n",
    "import seaborn as sns\n",
    "\n",
    "# Sort of smart tokenization\n",
    "from nltk.tokenize import RegexpTokenizer\n",
    "\n",
    "# Attention plotting\n",
    "import matplotlib.pyplot as plt\n",
    "\n",
    "import pickle"
   ]
  },
  {
   "cell_type": "markdown",
   "metadata": {},
   "source": [
    "# Load in the necessary parameters from the word2vec code"
   ]
  },
  {
   "cell_type": "code",
   "execution_count": 15,
   "metadata": {},
   "outputs": [],
   "source": [
    "# Load the word-to-index mapping we used for word2vec and use the same type\n",
    "# of tokenizer. We'll need to use this to tokenize in the same way and keep \n",
    "# the same word-to-id mapping\n",
    "\n",
    "\n",
    "tokenizer = RegexpTokenizer(r'\\w+')\n",
    "\n",
    "with open('128_y_mod_idx2word', 'rb') as f:\n",
    "    index_to_word = pickle.load(f)\n",
    "    \n",
    "with open('128_y_mod_word2idx', 'rb') as f:\n",
    "    word_to_index = pickle.load(f)\n"
   ]
  },
  {
   "cell_type": "markdown",
   "metadata": {},
   "source": [
    "# Define the Classifier Model\n",
    "\n",
    "Just like we did for word2vec, let's define a PyTorch `nn.Module` class here that will contain our classifier."
   ]
  },
  {
   "cell_type": "code",
   "execution_count": 31,
   "metadata": {},
   "outputs": [],
   "source": [
    "class DocumentAttentionClassifier(nn.Module):\n",
    "    \n",
    "    def __init__(self, vocab_size, embedding_size, num_heads, embeddings_fname):\n",
    "        '''\n",
    "        Creates the new classifier model. embeddings_fname is a string containing the\n",
    "        filename with the saved pytorch parameters (the state dict) for the Embedding\n",
    "        object that should be used to initialize this class's word Embedding parameters\n",
    "        '''\n",
    "        super(DocumentAttentionClassifier, self).__init__()\n",
    "        \n",
    "        torch.manual_seed(1234)\n",
    "        \n",
    "        # Save the input arguments to the state\n",
    "        self.vocab_size = vocab_size\n",
    "        self.embedding_size = embedding_size\n",
    "        self.num_heads = num_heads\n",
    "        self.embeddings_fname = embeddings_fname\n",
    "        \n",
    "        \n",
    "        \n",
    "        # Create the Embedding object that will hold our word embeddings that we\n",
    "        # learned in word2vec. This embedding object should have the same size\n",
    "        # as what we learned before. However, we don't to start from scratch! \n",
    "        # Once created, load the saved (word2vec-based) parameters into the object\n",
    "        # using load_state_dict.\n",
    "        state_dict = torch.load(embeddings_fname, map_location=torch.device('cpu'))\n",
    "\n",
    "        self.embeddings = nn.Embedding(vocab_size, embedding_size)\n",
    "        self.embeddings.weight.data = state_dict['target_embeddings.weight']\n",
    "        \n",
    "       \n",
    "        \n",
    "        \n",
    "\n",
    "        # Define the attention heads. You have two options:\n",
    "        # \n",
    "        # 1) the worse way to implement this is to define your heads using an Embedding\n",
    "        #    and then access them individually later in forward(). This will be slower\n",
    "        #    but will probably still work \n",
    "        #\n",
    "        # 2) the ideal way is to think of your attention heads as rows in a matrix--\n",
    "        #    just like we do for word2vec. While this is kind of the same as how\n",
    "        #    we represent things like in an Embedding, the key difference is that we\n",
    "        #    can now use **matrix operations** to calculate the different r and a\n",
    "        #    vectors, which will be much faster (and less code). To do this, you'll\n",
    "        #    need to represent the attention heads as a Tensor directly (not a layer)\n",
    "        #    and make sure pytorch runs gradient descent on these parameters.\n",
    "        #\n",
    "        #  It's up to you which to use, but try option 2 first and see what you do \n",
    "        #  in the forward() function\n",
    "        self.attention_heads = nn.Parameter(torch.randn(num_heads, embedding_size))\n",
    "        \n",
    "        \n",
    "        # Define the output layer\n",
    "        \n",
    "        # Define the layer that goes from the concatenated attention heads' outputs\n",
    "        # to the single output value. We'll push this output value through the sigmoid\n",
    "        # to get our prediction\n",
    "   \n",
    "        #self.output_layer = nn.Linear(self.vocab_size * self.num_heads, 1) \n",
    "        self.output_layer = nn.Linear(num_heads * embedding_size, 1)\n",
    "\n",
    "\n",
    "        pass\n",
    "    \n",
    "\n",
    "    def forward(self, word_ids):\n",
    "        \n",
    "        word_embeds = self.embeddings(word_ids)  \n",
    "\n",
    "        #attention_heads_expanded = self.attention_heads.unsqueeze(0).expand(word_embeds.size(0), 1, -1)\n",
    "        #attention_heads_expanded = self.attention_heads.expand(word_embeds.size(0), 1, -1)\n",
    "\n",
    "        attention_heads_expanded = self.attention_heads.unsqueeze(0).expand(word_embeds.size(0), -1, -1)\n",
    "\n",
    "        r = torch.bmm(attention_heads_expanded, word_embeds.transpose(1, 2)) \n",
    "        a = F.softmax(r, dim=2)\n",
    "\n",
    "        weighted_sum = torch.bmm(a, word_embeds)  \n",
    "        concatenated = weighted_sum.view(word_embeds.size(0), -1)  \n",
    "        output = torch.sigmoid(self.output_layer(concatenated))\n",
    "\n",
    "        return output,a\n",
    "\n",
    "\n",
    "\n",
    "\n",
    "dataset = DataLoader(train_list, batch_size=1)\n",
    "model = DocumentAttentionClassifier(len(word_to_index), 50, 4, \"128_y_mod.pth\")\n",
    "\n",
    "# model.train()\n",
    "# for index, (token_ids, labels) in enumerate(dataset):\n",
    "#     if index < 10:  \n",
    "#         output = model.forward(token_ids)\n",
    "#         print(output)\n",
    "  \n",
    "#     else:\n",
    "#         break  \n",
    "# #print(\"Done\")"
   ]
  },
  {
   "cell_type": "markdown",
   "metadata": {},
   "source": [
    "# Load in the datasets \n",
    "\n",
    "You can keep these as pandas data frames."
   ]
  },
  {
   "cell_type": "code",
   "execution_count": 17,
   "metadata": {},
   "outputs": [],
   "source": [
    "sent_train_df = pd.read_csv(\"sentiment.train.csv\")\n",
    "sent_dev_df = pd.read_csv(\"sentiment.dev.csv\")\n",
    "sent_test_df = pd.read_csv(\"sentiment.test.csv\")\n",
    "\n",
    "file_dict = {\n",
    "    'train':sent_train_df, \n",
    "    'dev':sent_dev_df,\n",
    "    'test':sent_test_df\n",
    "}"
   ]
  },
  {
   "cell_type": "markdown",
   "metadata": {},
   "source": [
    "Convert each dataset into a list of tuples of the form `([word-ids,...], label)`. Both the word ids and the label should be numpy arrays so they will get converted into Tensors by our data loader. Note that you did something very similar for creating the word2vec training data. This process will require tokenizing the data in the same way as you did for word2vec and using the same word-to-id mapping (both of which you loaded/created above)."
   ]
  },
  {
   "cell_type": "code",
   "execution_count": 18,
   "metadata": {},
   "outputs": [
    {
     "name": "stdout",
     "output_type": "stream",
     "text": [
      "TRAIN DF\n",
      "DEV DF\n",
      "TEST DF\n"
     ]
    }
   ],
   "source": [
    "train_list = []\n",
    "dev_list = []\n",
    "test_list = []\n",
    "\n",
    "words = set(list(word_to_index.keys()))\n",
    "\n",
    "print(\"TRAIN DF\")\n",
    "for idx, row in sent_train_df.iterrows():\n",
    "    tokens = tokenizer.tokenize(row['text'])\n",
    "    token_ids = []\n",
    "    label = row['label']\n",
    "    for token in tokens:\n",
    "        if token in words:\n",
    "            token_ids.append(word_to_index[token])\n",
    "        else:\n",
    "            pass\n",
    "    tupple = (np.array(token_ids), np.array(label))\n",
    "    train_list.append(tupple)\n",
    "    \n",
    "print(\"DEV DF\")\n",
    "for idx, row in sent_dev_df.iterrows():\n",
    "    tokens = tokenizer.tokenize(row['text'])\n",
    "    token_ids = []\n",
    "    label = row['label']\n",
    "    for token in tokens:\n",
    "        if token in words:\n",
    "            token_ids.append(word_to_index[token])\n",
    "        else:\n",
    "            pass\n",
    "    tupple = (np.array(token_ids), np.array(label))\n",
    "    dev_list.append(tupple)\n",
    "    \n",
    "print(\"TEST DF\") \n",
    "for idx, row in sent_test_df.iterrows():\n",
    "    tokens = tokenizer.tokenize(row['text'])\n",
    "    token_ids = []\n",
    "    for token in tokens:\n",
    "        if token in words:\n",
    "            token_ids.append(word_to_index[token])\n",
    "        else:\n",
    "            pass\n",
    "    tupple = (np.array(token_ids))\n",
    "    test_list.append(tupple)\n",
    "        "
   ]
  },
  {
   "cell_type": "markdown",
   "metadata": {},
   "source": [
    "If this worked you should see XXXX train, XXXX dev, and XXX test instances."
   ]
  },
  {
   "cell_type": "code",
   "execution_count": 7,
   "metadata": {},
   "outputs": [
    {
     "data": {
      "text/plain": [
       "(160000, 20000, 20000)"
      ]
     },
     "execution_count": 7,
     "metadata": {},
     "output_type": "execute_result"
    }
   ],
   "source": [
    "len(train_list), len(dev_list), len(test_list)"
   ]
  },
  {
   "cell_type": "markdown",
   "metadata": {},
   "source": [
    "# Build the code training loop"
   ]
  },
  {
   "cell_type": "markdown",
   "metadata": {},
   "source": [
    "We'll evaluate periodically so before we start training, let's define a function that takes in some evaluation data (e.g., the dev or test sets) and computes the F1 score on that data. "
   ]
  },
  {
   "cell_type": "code",
   "execution_count": 8,
   "metadata": {},
   "outputs": [],
   "source": [
    "from sklearn.metrics import f1_score\n",
    "\n",
    "def run_eval(model, eval_data):\n",
    "    '''\n",
    "    Scores the model on the evaluation data and returns the F1\n",
    "    '''\n",
    "\n",
    "   # device = torch.device(\"cuda\" if torch.cuda.is_available() else \"cpu\")\n",
    "    device = 'cpu'\n",
    "    data_loader = DataLoader(eval_data, batch_size=batch_size, shuffle=True)\n",
    "    optimizer = optimizer_choice(lr=learning_rate, params=model.parameters())\n",
    "    loss_fn = torch.nn.BCELoss()\n",
    "    \n",
    "    actual_labels = []\n",
    "    predicted_labels = []\n",
    "    \n",
    "    for index, (token_ids, labels) in enumerate(tqdm(data_loader)):\n",
    "        \n",
    "        with torch.no_grad():\n",
    "\n",
    "            token_ids = token_ids.to(device)\n",
    "            labels = labels.float().to(device)\n",
    "\n",
    "            output, attn = model(token_ids)\n",
    "            output = output[0]\n",
    "            \n",
    "            if output > 0.5:\n",
    "                pred = 1\n",
    "            else:\n",
    "                pred = 0\n",
    "                \n",
    "            loss = loss_fn(output,labels)\n",
    "\n",
    "            actual_labels.append(int(labels))\n",
    "            predicted_labels.append(int(pred))\n",
    "\n",
    "    return f1_score(actual_labels, predicted_labels)\n",
    "\n"
   ]
  },
  {
   "cell_type": "markdown",
   "metadata": {},
   "source": [
    "Now that you have data in the right format and a neural network designed, it's time to train the network and see if it's all working. The training code will look surprisingly similar to your word2vec code. \n",
    "\n",
    "For all steps, be sure to use the hyperparameters values described in the write-up.\n",
    "\n",
    "1. Initialize your optimizer and loss function \n",
    "2. Create your network\n",
    "3. Load your dataset into PyTorch's `DataLoader` class, which will take care of batching and shuffling for us (yay!)\n",
    "4. **see below:** Initializes Weights & Biases and periodically write our running-sum of the loss \n",
    "5. Train your model \n",
    "\n",
    "For step 4, in addition to writing the loss, you should write the F1 score on the dev set to the `wandb` as well, using the specified number of steps.\n",
    "\n",
    "**NOTE:** In this training, you'll use a batch size of 1, which will make your life _much_ simpler."
   ]
  },
  {
   "cell_type": "code",
   "execution_count": 32,
   "metadata": {},
   "outputs": [
    {
     "name": "stdout",
     "output_type": "stream",
     "text": [
      "Using device: cpu\n"
     ]
    },
    {
     "data": {
      "text/html": [
       "Finishing last run (ID:rq4jslof) before initializing another..."
      ],
      "text/plain": [
       "<IPython.core.display.HTML object>"
      ]
     },
     "metadata": {},
     "output_type": "display_data"
    },
    {
     "name": "stderr",
     "output_type": "stream",
     "text": [
      "wandb: WARNING Source type is set to 'repo' but some required information is missing from the environment. A job will not be created from this run. See https://docs.wandb.ai/guides/launch/create-job\n"
     ]
    },
    {
     "data": {
      "application/vnd.jupyter.widget-view+json": {
       "model_id": "",
       "version_major": 2,
       "version_minor": 0
      },
      "text/plain": [
       "VBox(children=(Label(value='0.005 MB of 0.005 MB uploaded\\r'), FloatProgress(value=1.0, max=1.0)))"
      ]
     },
     "metadata": {},
     "output_type": "display_data"
    },
    {
     "data": {
      "text/html": [
       "<style>\n",
       "    table.wandb td:nth-child(1) { padding: 0 10px; text-align: left ; width: auto;} td:nth-child(2) {text-align: left ; width: 100%}\n",
       "    .wandb-row { display: flex; flex-direction: row; flex-wrap: wrap; justify-content: flex-start; width: 100% }\n",
       "    .wandb-col { display: flex; flex-direction: column; flex-basis: 100%; flex: 1; padding: 10px; }\n",
       "    </style>\n",
       "<div class=\"wandb-row\"><div class=\"wandb-col\"><h3>Run history:</h3><br/><table class=\"wandb\"><tr><td>f1</td><td>▁▁▁▁▁▁▁▁▁▁▁▁▁▁</td></tr><tr><td>loss last 500 steps</td><td>▄▃▂▄▂▄▂▃▂▆▅█▂▁▄▄▄▄▄▄▆▂▃▄▄▁▃▄▄▃▅▄▄▄▆▃▃▁▃▃</td></tr></table><br/></div><div class=\"wandb-col\"><h3>Run summary:</h3><br/><table class=\"wandb\"><tr><td>f1</td><td>0.618</td></tr><tr><td>loss last 500 steps</td><td>347.07711</td></tr></table><br/></div></div>"
      ],
      "text/plain": [
       "<IPython.core.display.HTML object>"
      ]
     },
     "metadata": {},
     "output_type": "display_data"
    },
    {
     "data": {
      "text/html": [
       " View run <strong style=\"color:#cdcd00\">atn_nograd</strong> at: <a href='https://wandb.ai/jashkina2/attn_nograd/runs/rq4jslof' target=\"_blank\">https://wandb.ai/jashkina2/attn_nograd/runs/rq4jslof</a><br/>Synced 5 W&B file(s), 0 media file(s), 0 artifact file(s) and 0 other file(s)"
      ],
      "text/plain": [
       "<IPython.core.display.HTML object>"
      ]
     },
     "metadata": {},
     "output_type": "display_data"
    },
    {
     "data": {
      "text/html": [
       "Find logs at: <code>./wandb/run-20240302_193542-rq4jslof/logs</code>"
      ],
      "text/plain": [
       "<IPython.core.display.HTML object>"
      ]
     },
     "metadata": {},
     "output_type": "display_data"
    },
    {
     "data": {
      "text/html": [
       "Successfully finished last run (ID:rq4jslof). Initializing new run:<br/>"
      ],
      "text/plain": [
       "<IPython.core.display.HTML object>"
      ]
     },
     "metadata": {},
     "output_type": "display_data"
    },
    {
     "data": {
      "text/html": [
       "Tracking run with wandb version 0.16.3"
      ],
      "text/plain": [
       "<IPython.core.display.HTML object>"
      ]
     },
     "metadata": {},
     "output_type": "display_data"
    },
    {
     "data": {
      "text/html": [
       "Run data is saved locally in <code>/home/jashkina/nlp2/nlp-hw2/nlp-hw2/wandb/run-20240302_193820-hwkexsn1</code>"
      ],
      "text/plain": [
       "<IPython.core.display.HTML object>"
      ]
     },
     "metadata": {},
     "output_type": "display_data"
    },
    {
     "data": {
      "text/html": [
       "Syncing run <strong><a href='https://wandb.ai/jashkina2/attn2/runs/hwkexsn1' target=\"_blank\">attn2</a></strong> to <a href='https://wandb.ai/jashkina2/attn2' target=\"_blank\">Weights & Biases</a> (<a href='https://wandb.me/run' target=\"_blank\">docs</a>)<br/>"
      ],
      "text/plain": [
       "<IPython.core.display.HTML object>"
      ]
     },
     "metadata": {},
     "output_type": "display_data"
    },
    {
     "data": {
      "text/html": [
       " View project at <a href='https://wandb.ai/jashkina2/attn2' target=\"_blank\">https://wandb.ai/jashkina2/attn2</a>"
      ],
      "text/plain": [
       "<IPython.core.display.HTML object>"
      ]
     },
     "metadata": {},
     "output_type": "display_data"
    },
    {
     "data": {
      "text/html": [
       " View run at <a href='https://wandb.ai/jashkina2/attn2/runs/hwkexsn1' target=\"_blank\">https://wandb.ai/jashkina2/attn2/runs/hwkexsn1</a>"
      ],
      "text/plain": [
       "<IPython.core.display.HTML object>"
      ]
     },
     "metadata": {},
     "output_type": "display_data"
    },
    {
     "name": "stdout",
     "output_type": "stream",
     "text": [
      "start time 1709426307.257409\n"
     ]
    },
    {
     "data": {
      "application/vnd.jupyter.widget-view+json": {
       "model_id": "f11ea79e55ec4058b68ea221cc5b1eaa",
       "version_major": 2,
       "version_minor": 0
      },
      "text/plain": [
       "  0%|          | 0/160000 [00:00<?, ?it/s]"
      ]
     },
     "metadata": {},
     "output_type": "display_data"
    },
    {
     "data": {
      "application/vnd.jupyter.widget-view+json": {
       "model_id": "ead33f0c0463452ab6ae789884f592bf",
       "version_major": 2,
       "version_minor": 0
      },
      "text/plain": [
       "  0%|          | 0/20000 [00:00<?, ?it/s]"
      ]
     },
     "metadata": {},
     "output_type": "display_data"
    },
    {
     "data": {
      "application/vnd.jupyter.widget-view+json": {
       "model_id": "7664ba9346de4c4bbbde051e8fff3a9c",
       "version_major": 2,
       "version_minor": 0
      },
      "text/plain": [
       "  0%|          | 0/20000 [00:00<?, ?it/s]"
      ]
     },
     "metadata": {},
     "output_type": "display_data"
    },
    {
     "data": {
      "application/vnd.jupyter.widget-view+json": {
       "model_id": "0183d0c76549428ea7f923d37feff691",
       "version_major": 2,
       "version_minor": 0
      },
      "text/plain": [
       "  0%|          | 0/20000 [00:00<?, ?it/s]"
      ]
     },
     "metadata": {},
     "output_type": "display_data"
    },
    {
     "data": {
      "application/vnd.jupyter.widget-view+json": {
       "model_id": "113447843b1b49189ed072c949aae488",
       "version_major": 2,
       "version_minor": 0
      },
      "text/plain": [
       "  0%|          | 0/20000 [00:00<?, ?it/s]"
      ]
     },
     "metadata": {},
     "output_type": "display_data"
    },
    {
     "data": {
      "application/vnd.jupyter.widget-view+json": {
       "model_id": "0adae3dc664a49f78e5d07efdf6405d4",
       "version_major": 2,
       "version_minor": 0
      },
      "text/plain": [
       "  0%|          | 0/20000 [00:00<?, ?it/s]"
      ]
     },
     "metadata": {},
     "output_type": "display_data"
    },
    {
     "data": {
      "application/vnd.jupyter.widget-view+json": {
       "model_id": "cb078566bff249419659411c501ff377",
       "version_major": 2,
       "version_minor": 0
      },
      "text/plain": [
       "  0%|          | 0/20000 [00:00<?, ?it/s]"
      ]
     },
     "metadata": {},
     "output_type": "display_data"
    },
    {
     "data": {
      "application/vnd.jupyter.widget-view+json": {
       "model_id": "6ba2ef5a92c64ed8a973b2bd0fe92178",
       "version_major": 2,
       "version_minor": 0
      },
      "text/plain": [
       "  0%|          | 0/20000 [00:00<?, ?it/s]"
      ]
     },
     "metadata": {},
     "output_type": "display_data"
    },
    {
     "data": {
      "application/vnd.jupyter.widget-view+json": {
       "model_id": "d23616763b1346bc8faf1df768282a9e",
       "version_major": 2,
       "version_minor": 0
      },
      "text/plain": [
       "  0%|          | 0/20000 [00:00<?, ?it/s]"
      ]
     },
     "metadata": {},
     "output_type": "display_data"
    },
    {
     "data": {
      "application/vnd.jupyter.widget-view+json": {
       "model_id": "0d3e5d1135904c679dfc35a4c18785aa",
       "version_major": 2,
       "version_minor": 0
      },
      "text/plain": [
       "  0%|          | 0/20000 [00:00<?, ?it/s]"
      ]
     },
     "metadata": {},
     "output_type": "display_data"
    },
    {
     "data": {
      "application/vnd.jupyter.widget-view+json": {
       "model_id": "3af55b16f3a64e478b27fb7f8109e222",
       "version_major": 2,
       "version_minor": 0
      },
      "text/plain": [
       "  0%|          | 0/20000 [00:00<?, ?it/s]"
      ]
     },
     "metadata": {},
     "output_type": "display_data"
    },
    {
     "data": {
      "application/vnd.jupyter.widget-view+json": {
       "model_id": "3f4f91498eec41cd8a840331c7aa4043",
       "version_major": 2,
       "version_minor": 0
      },
      "text/plain": [
       "  0%|          | 0/20000 [00:00<?, ?it/s]"
      ]
     },
     "metadata": {},
     "output_type": "display_data"
    },
    {
     "data": {
      "application/vnd.jupyter.widget-view+json": {
       "model_id": "c68d728bcf364f93b324c0df36bc0e81",
       "version_major": 2,
       "version_minor": 0
      },
      "text/plain": [
       "  0%|          | 0/20000 [00:00<?, ?it/s]"
      ]
     },
     "metadata": {},
     "output_type": "display_data"
    },
    {
     "data": {
      "application/vnd.jupyter.widget-view+json": {
       "model_id": "10771b10b062458db74dd739c58b8e95",
       "version_major": 2,
       "version_minor": 0
      },
      "text/plain": [
       "  0%|          | 0/20000 [00:00<?, ?it/s]"
      ]
     },
     "metadata": {},
     "output_type": "display_data"
    },
    {
     "data": {
      "application/vnd.jupyter.widget-view+json": {
       "model_id": "27f8411916b54532a89f4834404e9496",
       "version_major": 2,
       "version_minor": 0
      },
      "text/plain": [
       "  0%|          | 0/20000 [00:00<?, ?it/s]"
      ]
     },
     "metadata": {},
     "output_type": "display_data"
    },
    {
     "data": {
      "application/vnd.jupyter.widget-view+json": {
       "model_id": "b35f27c28386409789f6edd25d12f1a3",
       "version_major": 2,
       "version_minor": 0
      },
      "text/plain": [
       "  0%|          | 0/20000 [00:00<?, ?it/s]"
      ]
     },
     "metadata": {},
     "output_type": "display_data"
    },
    {
     "data": {
      "application/vnd.jupyter.widget-view+json": {
       "model_id": "09c85507947247ba81e93779610a6603",
       "version_major": 2,
       "version_minor": 0
      },
      "text/plain": [
       "  0%|          | 0/20000 [00:00<?, ?it/s]"
      ]
     },
     "metadata": {},
     "output_type": "display_data"
    },
    {
     "data": {
      "application/vnd.jupyter.widget-view+json": {
       "model_id": "4b50ce74eda543cdb93d5081720ecb11",
       "version_major": 2,
       "version_minor": 0
      },
      "text/plain": [
       "  0%|          | 0/20000 [00:00<?, ?it/s]"
      ]
     },
     "metadata": {},
     "output_type": "display_data"
    },
    {
     "data": {
      "application/vnd.jupyter.widget-view+json": {
       "model_id": "c8c8299f8eda474bb457bf3c34068322",
       "version_major": 2,
       "version_minor": 0
      },
      "text/plain": [
       "  0%|          | 0/20000 [00:00<?, ?it/s]"
      ]
     },
     "metadata": {},
     "output_type": "display_data"
    },
    {
     "data": {
      "application/vnd.jupyter.widget-view+json": {
       "model_id": "715fde0b231c4a8688b59b51ba8aafed",
       "version_major": 2,
       "version_minor": 0
      },
      "text/plain": [
       "  0%|          | 0/20000 [00:00<?, ?it/s]"
      ]
     },
     "metadata": {},
     "output_type": "display_data"
    },
    {
     "data": {
      "application/vnd.jupyter.widget-view+json": {
       "model_id": "75df3f3318e749bbaca138c243b21bcf",
       "version_major": 2,
       "version_minor": 0
      },
      "text/plain": [
       "  0%|          | 0/20000 [00:00<?, ?it/s]"
      ]
     },
     "metadata": {},
     "output_type": "display_data"
    },
    {
     "data": {
      "application/vnd.jupyter.widget-view+json": {
       "model_id": "078d0694ad584dbcbf209b0a4296782e",
       "version_major": 2,
       "version_minor": 0
      },
      "text/plain": [
       "  0%|          | 0/20000 [00:00<?, ?it/s]"
      ]
     },
     "metadata": {},
     "output_type": "display_data"
    },
    {
     "data": {
      "application/vnd.jupyter.widget-view+json": {
       "model_id": "29c2aaba3ecc482fbbcce6401f3d7f6e",
       "version_major": 2,
       "version_minor": 0
      },
      "text/plain": [
       "  0%|          | 0/20000 [00:00<?, ?it/s]"
      ]
     },
     "metadata": {},
     "output_type": "display_data"
    },
    {
     "data": {
      "application/vnd.jupyter.widget-view+json": {
       "model_id": "07bc7af62ae2410db9e38c6b23172391",
       "version_major": 2,
       "version_minor": 0
      },
      "text/plain": [
       "  0%|          | 0/20000 [00:00<?, ?it/s]"
      ]
     },
     "metadata": {},
     "output_type": "display_data"
    },
    {
     "data": {
      "application/vnd.jupyter.widget-view+json": {
       "model_id": "929ec5fc94a249e898b4b2b45ecd6147",
       "version_major": 2,
       "version_minor": 0
      },
      "text/plain": [
       "  0%|          | 0/20000 [00:00<?, ?it/s]"
      ]
     },
     "metadata": {},
     "output_type": "display_data"
    },
    {
     "data": {
      "application/vnd.jupyter.widget-view+json": {
       "model_id": "d1a1cb67c8a14f1d88d81b9bb9987331",
       "version_major": 2,
       "version_minor": 0
      },
      "text/plain": [
       "  0%|          | 0/20000 [00:00<?, ?it/s]"
      ]
     },
     "metadata": {},
     "output_type": "display_data"
    },
    {
     "data": {
      "application/vnd.jupyter.widget-view+json": {
       "model_id": "d65d566070f74611891a04a9dbb12720",
       "version_major": 2,
       "version_minor": 0
      },
      "text/plain": [
       "  0%|          | 0/20000 [00:00<?, ?it/s]"
      ]
     },
     "metadata": {},
     "output_type": "display_data"
    },
    {
     "data": {
      "application/vnd.jupyter.widget-view+json": {
       "model_id": "786b498ad6a94073bf1a4b565d5c2cff",
       "version_major": 2,
       "version_minor": 0
      },
      "text/plain": [
       "  0%|          | 0/20000 [00:00<?, ?it/s]"
      ]
     },
     "metadata": {},
     "output_type": "display_data"
    },
    {
     "data": {
      "application/vnd.jupyter.widget-view+json": {
       "model_id": "70fba9c621a042b58c070c0e09af6ef6",
       "version_major": 2,
       "version_minor": 0
      },
      "text/plain": [
       "  0%|          | 0/20000 [00:00<?, ?it/s]"
      ]
     },
     "metadata": {},
     "output_type": "display_data"
    },
    {
     "data": {
      "application/vnd.jupyter.widget-view+json": {
       "model_id": "5e46a872466e4c78ba29222455babb10",
       "version_major": 2,
       "version_minor": 0
      },
      "text/plain": [
       "  0%|          | 0/20000 [00:00<?, ?it/s]"
      ]
     },
     "metadata": {},
     "output_type": "display_data"
    },
    {
     "data": {
      "application/vnd.jupyter.widget-view+json": {
       "model_id": "52425b5beaec447e85edcc35b99a83cd",
       "version_major": 2,
       "version_minor": 0
      },
      "text/plain": [
       "  0%|          | 0/20000 [00:00<?, ?it/s]"
      ]
     },
     "metadata": {},
     "output_type": "display_data"
    },
    {
     "data": {
      "application/vnd.jupyter.widget-view+json": {
       "model_id": "c0db02f1afa74e748c5d29a07e863d1f",
       "version_major": 2,
       "version_minor": 0
      },
      "text/plain": [
       "  0%|          | 0/20000 [00:00<?, ?it/s]"
      ]
     },
     "metadata": {},
     "output_type": "display_data"
    },
    {
     "data": {
      "application/vnd.jupyter.widget-view+json": {
       "model_id": "71d795ad44954f66833b982901aa8f6f",
       "version_major": 2,
       "version_minor": 0
      },
      "text/plain": [
       "  0%|          | 0/20000 [00:00<?, ?it/s]"
      ]
     },
     "metadata": {},
     "output_type": "display_data"
    },
    {
     "name": "stdout",
     "output_type": "stream",
     "text": [
      "DONE\n",
      "end time 1709426961.6168199\n"
     ]
    },
    {
     "data": {
      "text/plain": [
       "DocumentAttentionClassifier(\n",
       "  (embeddings): Embedding(35193, 50)\n",
       "  (output_layer): Linear(in_features=200, out_features=1, bias=True)\n",
       ")"
      ]
     },
     "execution_count": 32,
     "metadata": {},
     "output_type": "execute_result"
    }
   ],
   "source": [
    "import torch\n",
    "import torch.nn as nn\n",
    "from torch.utils.data import DataLoader\n",
    "from torch.optim import AdamW\n",
    "import time\n",
    "import os\n",
    "\n",
    "##########################\n",
    "# CHECK DEVICE\n",
    "##########################\n",
    "device = torch.device(\"cuda\" if torch.cuda.is_available() else \"cpu\")\n",
    "device = 'cpu'\n",
    "print(f\"Using device: {device}\")\n",
    "\n",
    "##########################\n",
    "# PARAMETERS\n",
    "##########################\n",
    "early_stop = False\n",
    "batch_size = 1\n",
    "learning_rate = 5e-5  \n",
    "window_size = 2  \n",
    "epochs = 1\n",
    "optimizer_choice = AdamW\n",
    "\n",
    "\n",
    "##########################\n",
    "# MODEL\n",
    "##########################\n",
    "\n",
    "model = DocumentAttentionClassifier(len(word_to_index), 50, 4, \"128_y_mod.pth\")\n",
    "data_loader = DataLoader(train_list, batch_size=batch_size, shuffle=True)\n",
    "optimizer = optimizer_choice(lr=learning_rate, params=model.parameters())\n",
    "loss_fn = torch.nn.BCELoss()\n",
    "\n",
    "\n",
    "##########################\n",
    "# TRAINING\n",
    "##########################\n",
    "\n",
    "# LOSS STUFF\n",
    "\n",
    "actual_labels = []\n",
    "predicted_labels = []\n",
    "\n",
    "wandb.init(project='attn2', name='attn2')\n",
    "start_time = time.time()\n",
    "print(\"start time\", start_time)\n",
    "loss_data = []\n",
    "total_step = 0\n",
    "loss_sum = 0\n",
    "model.train()\n",
    "for epoch in range(epochs):\n",
    "    epoch_step = 0\n",
    "    for index, (token_ids, labels) in enumerate(tqdm(data_loader)):\n",
    "        \n",
    "        \n",
    "        token_ids = token_ids.to(device)\n",
    "        labels = labels.float().to(device)\n",
    "        \n",
    "        optimizer.zero_grad()\n",
    "\n",
    "        output, attn = model(token_ids)\n",
    "        output = output[0]\n",
    "        #print(\"output shape\", output.shape)\n",
    "        loss = loss_fn(output,labels)\n",
    "        loss.backward()\n",
    "        optimizer.step()\n",
    "        total_step += 1\n",
    "        epoch_step +=1 \n",
    "        #print(loss.item())\n",
    "        \n",
    "        actual_labels.append(labels)\n",
    "        predicted_labels.append(labels)\n",
    "\n",
    "        \n",
    "        loss_sum += loss.item()\n",
    "        \n",
    "        \n",
    "        if (index) % 5000 == 0:\n",
    "            f1 = run_eval(model, dev_list)\n",
    "            wandb.log({\"f1\": f1})\n",
    "\n",
    "        if (index) % 500 == 0:\n",
    "            wandb.log({\"loss last 500 steps\": loss_sum})\n",
    "            loss_data.append({'epoch':epoch, 'loss':loss.item(), 'epoch_step':epoch_step, 'total_step':total_step})\n",
    "            loss_sum = 0\n",
    "        if early_stop:\n",
    "            if total_step > early_stop:\n",
    "                print(\"BREAKING\")\n",
    "                break\n",
    "print(\"DONE\")\n",
    "end_time = time.time()\n",
    "print(\"end time\", end_time)\n",
    "\n",
    "\n",
    "######## d##################\n",
    "# PLOTS\n",
    "##########################\n",
    "model.eval()\n",
    "#loss_df = pd.DataFrame(loss_data)\n",
    "#sns.lineplot(data=loss_df, x='total_step', y='loss')"
   ]
  },
  {
   "cell_type": "markdown",
   "metadata": {},
   "source": [
    "# Test Set Prediction"
   ]
  },
  {
   "cell_type": "code",
   "execution_count": 10,
   "metadata": {},
   "outputs": [
    {
     "data": {
      "application/vnd.jupyter.widget-view+json": {
       "model_id": "ac273e62d0b04f75bbdac1bec5893c6e",
       "version_major": 2,
       "version_minor": 0
      },
      "text/plain": [
       "  0%|          | 0/20000 [00:00<?, ?it/s]"
      ]
     },
     "metadata": {},
     "output_type": "display_data"
    }
   ],
   "source": [
    "data_loader = DataLoader(test_list, batch_size=1, shuffle=False)\n",
    "optimizer = optimizer_choice(lr=learning_rate, params=model.parameters())\n",
    "loss_fn = torch.nn.BCELoss()\n",
    "\n",
    "preds = []\n",
    "\n",
    "for index, (token_ids) in enumerate(tqdm(data_loader)):\n",
    "\n",
    "    with torch.no_grad():\n",
    "\n",
    "        token_ids = token_ids.to(device)\n",
    "\n",
    "        output = model(token_ids)[0]\n",
    "\n",
    "        if output > 0.5:\n",
    "            pred = 1\n",
    "        else:\n",
    "            pred = 0\n",
    "        preds.append(pred)"
   ]
  },
  {
   "cell_type": "code",
   "execution_count": 11,
   "metadata": {},
   "outputs": [],
   "source": [
    "predy = pd.DataFrame(preds)\n",
    "predy.columns = ['pred']\n",
    "predy['inst_id'] = sent_test_df['inst_id'].to_list()\n",
    "predy['pred'] = predy['pred'].apply(lambda x: int(x))\n",
    "predy\n",
    "predy.to_csv(\"attn_preds.csv\", index=False)"
   ]
  },
  {
   "cell_type": "code",
   "execution_count": 13,
   "metadata": {},
   "outputs": [
    {
     "name": "stdout",
     "output_type": "stream",
     "text": [
      "   pred  inst_id\n",
      "0     0        0\n",
      "1     1        1\n",
      "2     0        2\n",
      "3     1        3\n",
      "4     0        4\n"
     ]
    }
   ],
   "source": [
    "print(predy.head())"
   ]
  },
  {
   "cell_type": "markdown",
   "metadata": {},
   "source": [
    "# Frozen Model"
   ]
  },
  {
   "cell_type": "code",
   "execution_count": 41,
   "metadata": {},
   "outputs": [
    {
     "name": "stdout",
     "output_type": "stream",
     "text": [
      "Using device: cpu\n"
     ]
    },
    {
     "data": {
      "text/html": [
       "Finishing last run (ID:ma142ih9) before initializing another..."
      ],
      "text/plain": [
       "<IPython.core.display.HTML object>"
      ]
     },
     "metadata": {},
     "output_type": "display_data"
    },
    {
     "name": "stderr",
     "output_type": "stream",
     "text": [
      "wandb: WARNING Source type is set to 'repo' but some required information is missing from the environment. A job will not be created from this run. See https://docs.wandb.ai/guides/launch/create-job\n"
     ]
    },
    {
     "data": {
      "application/vnd.jupyter.widget-view+json": {
       "model_id": "",
       "version_major": 2,
       "version_minor": 0
      },
      "text/plain": [
       "VBox(children=(Label(value='0.005 MB of 0.005 MB uploaded\\r'), FloatProgress(value=1.0, max=1.0)))"
      ]
     },
     "metadata": {},
     "output_type": "display_data"
    },
    {
     "data": {
      "text/html": [
       "<style>\n",
       "    table.wandb td:nth-child(1) { padding: 0 10px; text-align: left ; width: auto;} td:nth-child(2) {text-align: left ; width: 100%}\n",
       "    .wandb-row { display: flex; flex-direction: row; flex-wrap: wrap; justify-content: flex-start; width: 100% }\n",
       "    .wandb-col { display: flex; flex-direction: column; flex-basis: 100%; flex: 1; padding: 10px; }\n",
       "    </style>\n",
       "<div class=\"wandb-row\"><div class=\"wandb-col\"><h3>Run history:</h3><br/><table class=\"wandb\"><tr><td>f1</td><td>██▇▁█</td></tr><tr><td>loss last 500 steps</td><td>▁██████████████████████████████████▇████</td></tr></table><br/></div><div class=\"wandb-col\"><h3>Run summary:</h3><br/><table class=\"wandb\"><tr><td>f1</td><td>0.6146</td></tr><tr><td>loss last 500 steps</td><td>323.93188</td></tr></table><br/></div></div>"
      ],
      "text/plain": [
       "<IPython.core.display.HTML object>"
      ]
     },
     "metadata": {},
     "output_type": "display_data"
    },
    {
     "data": {
      "text/html": [
       " View run <strong style=\"color:#cdcd00\">frozen2</strong> at: <a href='https://wandb.ai/jashkina2/frozen2/runs/ma142ih9' target=\"_blank\">https://wandb.ai/jashkina2/frozen2/runs/ma142ih9</a><br/>Synced 5 W&B file(s), 0 media file(s), 0 artifact file(s) and 0 other file(s)"
      ],
      "text/plain": [
       "<IPython.core.display.HTML object>"
      ]
     },
     "metadata": {},
     "output_type": "display_data"
    },
    {
     "data": {
      "text/html": [
       "Find logs at: <code>./wandb/run-20240302_203401-ma142ih9/logs</code>"
      ],
      "text/plain": [
       "<IPython.core.display.HTML object>"
      ]
     },
     "metadata": {},
     "output_type": "display_data"
    },
    {
     "data": {
      "text/html": [
       "Successfully finished last run (ID:ma142ih9). Initializing new run:<br/>"
      ],
      "text/plain": [
       "<IPython.core.display.HTML object>"
      ]
     },
     "metadata": {},
     "output_type": "display_data"
    },
    {
     "data": {
      "application/vnd.jupyter.widget-view+json": {
       "model_id": "c860d5bccdf84ffcaa7d6f00ea111a43",
       "version_major": 2,
       "version_minor": 0
      },
      "text/plain": [
       "VBox(children=(Label(value='Waiting for wandb.init()...\\r'), FloatProgress(value=0.011113364518516593, max=1.0…"
      ]
     },
     "metadata": {},
     "output_type": "display_data"
    },
    {
     "data": {
      "text/html": [
       "Tracking run with wandb version 0.16.3"
      ],
      "text/plain": [
       "<IPython.core.display.HTML object>"
      ]
     },
     "metadata": {},
     "output_type": "display_data"
    },
    {
     "data": {
      "text/html": [
       "Run data is saved locally in <code>/home/jashkina/nlp2/nlp-hw2/nlp-hw2/wandb/run-20240302_203518-1yqw7twn</code>"
      ],
      "text/plain": [
       "<IPython.core.display.HTML object>"
      ]
     },
     "metadata": {},
     "output_type": "display_data"
    },
    {
     "data": {
      "text/html": [
       "Syncing run <strong><a href='https://wandb.ai/jashkina2/frozen3/runs/1yqw7twn' target=\"_blank\">frozen3</a></strong> to <a href='https://wandb.ai/jashkina2/frozen3' target=\"_blank\">Weights & Biases</a> (<a href='https://wandb.me/run' target=\"_blank\">docs</a>)<br/>"
      ],
      "text/plain": [
       "<IPython.core.display.HTML object>"
      ]
     },
     "metadata": {},
     "output_type": "display_data"
    },
    {
     "data": {
      "text/html": [
       " View project at <a href='https://wandb.ai/jashkina2/frozen3' target=\"_blank\">https://wandb.ai/jashkina2/frozen3</a>"
      ],
      "text/plain": [
       "<IPython.core.display.HTML object>"
      ]
     },
     "metadata": {},
     "output_type": "display_data"
    },
    {
     "data": {
      "text/html": [
       " View run at <a href='https://wandb.ai/jashkina2/frozen3/runs/1yqw7twn' target=\"_blank\">https://wandb.ai/jashkina2/frozen3/runs/1yqw7twn</a>"
      ],
      "text/plain": [
       "<IPython.core.display.HTML object>"
      ]
     },
     "metadata": {},
     "output_type": "display_data"
    },
    {
     "name": "stdout",
     "output_type": "stream",
     "text": [
      "start time 1709429726.736884\n"
     ]
    },
    {
     "data": {
      "application/vnd.jupyter.widget-view+json": {
       "model_id": "236bc157638e44069f82b8917e1b397b",
       "version_major": 2,
       "version_minor": 0
      },
      "text/plain": [
       "  0%|          | 0/160000 [00:00<?, ?it/s]"
      ]
     },
     "metadata": {},
     "output_type": "display_data"
    },
    {
     "data": {
      "application/vnd.jupyter.widget-view+json": {
       "model_id": "3cb30c612bb34710ad787a791dc9823d",
       "version_major": 2,
       "version_minor": 0
      },
      "text/plain": [
       "  0%|          | 0/20000 [00:00<?, ?it/s]"
      ]
     },
     "metadata": {},
     "output_type": "display_data"
    },
    {
     "data": {
      "application/vnd.jupyter.widget-view+json": {
       "model_id": "dcea7c818a15414ead30a40ef47f48d6",
       "version_major": 2,
       "version_minor": 0
      },
      "text/plain": [
       "  0%|          | 0/20000 [00:00<?, ?it/s]"
      ]
     },
     "metadata": {},
     "output_type": "display_data"
    },
    {
     "data": {
      "application/vnd.jupyter.widget-view+json": {
       "model_id": "40388dac7e5045bdb6704f3461770982",
       "version_major": 2,
       "version_minor": 0
      },
      "text/plain": [
       "  0%|          | 0/20000 [00:00<?, ?it/s]"
      ]
     },
     "metadata": {},
     "output_type": "display_data"
    },
    {
     "data": {
      "application/vnd.jupyter.widget-view+json": {
       "model_id": "5a7602ece48442d29f4b0a83b85923b1",
       "version_major": 2,
       "version_minor": 0
      },
      "text/plain": [
       "  0%|          | 0/20000 [00:00<?, ?it/s]"
      ]
     },
     "metadata": {},
     "output_type": "display_data"
    },
    {
     "data": {
      "application/vnd.jupyter.widget-view+json": {
       "model_id": "b3c4e7e5a8ff4754a905274b13a4ba80",
       "version_major": 2,
       "version_minor": 0
      },
      "text/plain": [
       "  0%|          | 0/20000 [00:00<?, ?it/s]"
      ]
     },
     "metadata": {},
     "output_type": "display_data"
    },
    {
     "data": {
      "application/vnd.jupyter.widget-view+json": {
       "model_id": "36d4c9d6f8f94353bd90d47b011b2b4e",
       "version_major": 2,
       "version_minor": 0
      },
      "text/plain": [
       "  0%|          | 0/20000 [00:00<?, ?it/s]"
      ]
     },
     "metadata": {},
     "output_type": "display_data"
    },
    {
     "data": {
      "application/vnd.jupyter.widget-view+json": {
       "model_id": "d96a5b9a7a86473c9566dae239ee717d",
       "version_major": 2,
       "version_minor": 0
      },
      "text/plain": [
       "  0%|          | 0/20000 [00:00<?, ?it/s]"
      ]
     },
     "metadata": {},
     "output_type": "display_data"
    },
    {
     "data": {
      "application/vnd.jupyter.widget-view+json": {
       "model_id": "04c776d9a8af422ca7fea05f73436792",
       "version_major": 2,
       "version_minor": 0
      },
      "text/plain": [
       "  0%|          | 0/20000 [00:00<?, ?it/s]"
      ]
     },
     "metadata": {},
     "output_type": "display_data"
    },
    {
     "data": {
      "application/vnd.jupyter.widget-view+json": {
       "model_id": "6b5c77dfa8ab4f1a8bc013f8c5ab8fc8",
       "version_major": 2,
       "version_minor": 0
      },
      "text/plain": [
       "  0%|          | 0/20000 [00:00<?, ?it/s]"
      ]
     },
     "metadata": {},
     "output_type": "display_data"
    },
    {
     "data": {
      "application/vnd.jupyter.widget-view+json": {
       "model_id": "f45974c496334063b3e443f6891e3f97",
       "version_major": 2,
       "version_minor": 0
      },
      "text/plain": [
       "  0%|          | 0/20000 [00:00<?, ?it/s]"
      ]
     },
     "metadata": {},
     "output_type": "display_data"
    },
    {
     "data": {
      "application/vnd.jupyter.widget-view+json": {
       "model_id": "ac2cb3a55cc643ddb5e6b7b0bf164169",
       "version_major": 2,
       "version_minor": 0
      },
      "text/plain": [
       "  0%|          | 0/20000 [00:00<?, ?it/s]"
      ]
     },
     "metadata": {},
     "output_type": "display_data"
    },
    {
     "data": {
      "application/vnd.jupyter.widget-view+json": {
       "model_id": "4d6b69ef8d31419b9b247866f49b69f7",
       "version_major": 2,
       "version_minor": 0
      },
      "text/plain": [
       "  0%|          | 0/20000 [00:00<?, ?it/s]"
      ]
     },
     "metadata": {},
     "output_type": "display_data"
    },
    {
     "data": {
      "application/vnd.jupyter.widget-view+json": {
       "model_id": "5236a38a437d485db8d6ef8deae98a34",
       "version_major": 2,
       "version_minor": 0
      },
      "text/plain": [
       "  0%|          | 0/20000 [00:00<?, ?it/s]"
      ]
     },
     "metadata": {},
     "output_type": "display_data"
    },
    {
     "data": {
      "application/vnd.jupyter.widget-view+json": {
       "model_id": "5800b9fbba1f4825bd33c994447ec649",
       "version_major": 2,
       "version_minor": 0
      },
      "text/plain": [
       "  0%|          | 0/20000 [00:00<?, ?it/s]"
      ]
     },
     "metadata": {},
     "output_type": "display_data"
    },
    {
     "data": {
      "application/vnd.jupyter.widget-view+json": {
       "model_id": "2ba327732523492a9947d1e77a925667",
       "version_major": 2,
       "version_minor": 0
      },
      "text/plain": [
       "  0%|          | 0/20000 [00:00<?, ?it/s]"
      ]
     },
     "metadata": {},
     "output_type": "display_data"
    },
    {
     "data": {
      "application/vnd.jupyter.widget-view+json": {
       "model_id": "72f621ae51f64e2fb9fd932af9ab267f",
       "version_major": 2,
       "version_minor": 0
      },
      "text/plain": [
       "  0%|          | 0/20000 [00:00<?, ?it/s]"
      ]
     },
     "metadata": {},
     "output_type": "display_data"
    },
    {
     "data": {
      "application/vnd.jupyter.widget-view+json": {
       "model_id": "258ca857094b41c6a93ba5ac49040e0d",
       "version_major": 2,
       "version_minor": 0
      },
      "text/plain": [
       "  0%|          | 0/20000 [00:00<?, ?it/s]"
      ]
     },
     "metadata": {},
     "output_type": "display_data"
    },
    {
     "data": {
      "application/vnd.jupyter.widget-view+json": {
       "model_id": "7cdab749a6da4785bf263701704cdeb1",
       "version_major": 2,
       "version_minor": 0
      },
      "text/plain": [
       "  0%|          | 0/20000 [00:00<?, ?it/s]"
      ]
     },
     "metadata": {},
     "output_type": "display_data"
    },
    {
     "data": {
      "application/vnd.jupyter.widget-view+json": {
       "model_id": "b821b3632433477489caf93409da9596",
       "version_major": 2,
       "version_minor": 0
      },
      "text/plain": [
       "  0%|          | 0/20000 [00:00<?, ?it/s]"
      ]
     },
     "metadata": {},
     "output_type": "display_data"
    },
    {
     "data": {
      "application/vnd.jupyter.widget-view+json": {
       "model_id": "03353b2dc55c4927aba8c8f405d17711",
       "version_major": 2,
       "version_minor": 0
      },
      "text/plain": [
       "  0%|          | 0/20000 [00:00<?, ?it/s]"
      ]
     },
     "metadata": {},
     "output_type": "display_data"
    },
    {
     "data": {
      "application/vnd.jupyter.widget-view+json": {
       "model_id": "73b014c1ddda44c68b98c17e92e99595",
       "version_major": 2,
       "version_minor": 0
      },
      "text/plain": [
       "  0%|          | 0/20000 [00:00<?, ?it/s]"
      ]
     },
     "metadata": {},
     "output_type": "display_data"
    },
    {
     "data": {
      "application/vnd.jupyter.widget-view+json": {
       "model_id": "7d93d3482b264e938c5152c32180c648",
       "version_major": 2,
       "version_minor": 0
      },
      "text/plain": [
       "  0%|          | 0/20000 [00:00<?, ?it/s]"
      ]
     },
     "metadata": {},
     "output_type": "display_data"
    },
    {
     "data": {
      "application/vnd.jupyter.widget-view+json": {
       "model_id": "c85cd3e3cc5e42aebab2eb7496d20b64",
       "version_major": 2,
       "version_minor": 0
      },
      "text/plain": [
       "  0%|          | 0/20000 [00:00<?, ?it/s]"
      ]
     },
     "metadata": {},
     "output_type": "display_data"
    },
    {
     "data": {
      "application/vnd.jupyter.widget-view+json": {
       "model_id": "cedcfbaa5a054000bc784beb9176acd5",
       "version_major": 2,
       "version_minor": 0
      },
      "text/plain": [
       "  0%|          | 0/20000 [00:00<?, ?it/s]"
      ]
     },
     "metadata": {},
     "output_type": "display_data"
    },
    {
     "data": {
      "application/vnd.jupyter.widget-view+json": {
       "model_id": "fe0a35b7d94d4bd9a83c6a8155686ced",
       "version_major": 2,
       "version_minor": 0
      },
      "text/plain": [
       "  0%|          | 0/20000 [00:00<?, ?it/s]"
      ]
     },
     "metadata": {},
     "output_type": "display_data"
    },
    {
     "data": {
      "application/vnd.jupyter.widget-view+json": {
       "model_id": "ebbba0987d614641b4c47eef767e638f",
       "version_major": 2,
       "version_minor": 0
      },
      "text/plain": [
       "  0%|          | 0/20000 [00:00<?, ?it/s]"
      ]
     },
     "metadata": {},
     "output_type": "display_data"
    },
    {
     "data": {
      "application/vnd.jupyter.widget-view+json": {
       "model_id": "264eaf7f26354735962b65bf837d67d6",
       "version_major": 2,
       "version_minor": 0
      },
      "text/plain": [
       "  0%|          | 0/20000 [00:00<?, ?it/s]"
      ]
     },
     "metadata": {},
     "output_type": "display_data"
    },
    {
     "data": {
      "application/vnd.jupyter.widget-view+json": {
       "model_id": "67d7865027bd4016a3c2ca3b3f0b5eac",
       "version_major": 2,
       "version_minor": 0
      },
      "text/plain": [
       "  0%|          | 0/20000 [00:00<?, ?it/s]"
      ]
     },
     "metadata": {},
     "output_type": "display_data"
    },
    {
     "data": {
      "application/vnd.jupyter.widget-view+json": {
       "model_id": "247382651d764f6f82f3b12cb10ed316",
       "version_major": 2,
       "version_minor": 0
      },
      "text/plain": [
       "  0%|          | 0/20000 [00:00<?, ?it/s]"
      ]
     },
     "metadata": {},
     "output_type": "display_data"
    },
    {
     "data": {
      "application/vnd.jupyter.widget-view+json": {
       "model_id": "bfe18e0d0d584a1c888ea194fb44327a",
       "version_major": 2,
       "version_minor": 0
      },
      "text/plain": [
       "  0%|          | 0/20000 [00:00<?, ?it/s]"
      ]
     },
     "metadata": {},
     "output_type": "display_data"
    },
    {
     "data": {
      "application/vnd.jupyter.widget-view+json": {
       "model_id": "d305cb5b6cd94b61b78fb40ed34098f2",
       "version_major": 2,
       "version_minor": 0
      },
      "text/plain": [
       "  0%|          | 0/20000 [00:00<?, ?it/s]"
      ]
     },
     "metadata": {},
     "output_type": "display_data"
    },
    {
     "data": {
      "application/vnd.jupyter.widget-view+json": {
       "model_id": "f1c08d71d69440a78dcc6611891582cf",
       "version_major": 2,
       "version_minor": 0
      },
      "text/plain": [
       "  0%|          | 0/20000 [00:00<?, ?it/s]"
      ]
     },
     "metadata": {},
     "output_type": "display_data"
    },
    {
     "name": "stdout",
     "output_type": "stream",
     "text": [
      "DONE\n",
      "end time 1709430121.5357087\n"
     ]
    },
    {
     "data": {
      "text/plain": [
       "FrozenAttn(\n",
       "  (embeddings): Embedding(35193, 50)\n",
       "  (output_layer): Linear(in_features=200, out_features=1, bias=True)\n",
       ")"
      ]
     },
     "execution_count": 41,
     "metadata": {},
     "output_type": "execute_result"
    }
   ],
   "source": [
    "import torch\n",
    "import torch.nn as nn\n",
    "from torch.utils.data import DataLoader\n",
    "from torch.optim import AdamW\n",
    "import time\n",
    "import os\n",
    "\n",
    "class FrozenAttn(nn.Module):\n",
    "    \n",
    "    def __init__(self, vocab_size, embedding_size, num_heads, embeddings_fname):\n",
    "        '''\n",
    "        Creates the new classifier model. embeddings_fname is a string containing the\n",
    "        filename with the saved pytorch parameters (the state dict) for the Embedding\n",
    "        object that should be used to initialize this class's word Embedding parameters\n",
    "        '''\n",
    "        super(FrozenAttn, self).__init__()\n",
    "        \n",
    "        torch.manual_seed(1234)\n",
    "        \n",
    "        # Save the input arguments to the state\n",
    "        self.vocab_size = vocab_size\n",
    "        self.embedding_size = embedding_size\n",
    "        self.num_heads = num_heads\n",
    "        self.embeddings_fname = embeddings_fname\n",
    "        \n",
    "        \n",
    "        \n",
    "        # Create the Embedding object that will hold our word embeddings that we\n",
    "        # learned in word2vec. This embedding object should have the same size\n",
    "        # as what we learned before. However, we don't to start from scratch! \n",
    "        # Once created, load the saved (word2vec-based) parameters into the object\n",
    "        # using load_state_dict.\n",
    "        state_dict = torch.load(embeddings_fname, map_location=torch.device('cpu'))\n",
    "\n",
    "        self.embeddings = nn.Embedding(vocab_size, embedding_size)\n",
    "        self.embeddings.weight.data = state_dict['target_embeddings.weight']\n",
    "        \n",
    "        # frozen line\n",
    "        self.embeddings.weight.requires_grad = False\n",
    "\n",
    "       \n",
    "        \n",
    "        \n",
    "\n",
    "        # Define the attention heads. You have two options:\n",
    "        # \n",
    "        # 1) the worse way to implement this is to define your heads using an Embedding\n",
    "        #    and then access them individually later in forward(). This will be slower\n",
    "        #    but will probably still work \n",
    "        #\n",
    "        # 2) the ideal way is to think of your attention heads as rows in a matrix--\n",
    "        #    just like we do for word2vec. While this is kind of the same as how\n",
    "        #    we represent things like in an Embedding, the key difference is that we\n",
    "        #    can now use **matrix operations** to calculate the different r and a\n",
    "        #    vectors, which will be much faster (and less code). To do this, you'll\n",
    "        #    need to represent the attention heads as a Tensor directly (not a layer)\n",
    "        #    and make sure pytorch runs gradient descent on these parameters.\n",
    "        #\n",
    "        #  It's up to you which to use, but try option 2 first and see what you do \n",
    "        #  in the forward() function\n",
    "        self.attention_heads = nn.Parameter(torch.randn(num_heads, embedding_size), requires_grad=True)\n",
    "        \n",
    "        \n",
    "        # Define the output layer\n",
    "        \n",
    "        # Define the layer that goes from the concatenated attention heads' outputs\n",
    "        # to the single output value. We'll push this output value through the sigmoid\n",
    "        # to get our prediction\n",
    "   \n",
    "        #self.output_layer = nn.Linear(self.vocab_size * self.num_heads, 1) \n",
    "        self.output_layer = nn.Linear(num_heads * embedding_size, 1)\n",
    "\n",
    "\n",
    "        pass\n",
    "    \n",
    "\n",
    "    def forward(self, word_ids):\n",
    "        \n",
    "        word_embeds = self.embeddings(word_ids)  \n",
    "\n",
    "        #attention_heads_expanded = self.attention_heads.unsqueeze(0).expand(word_embeds.size(0), 1, -1)\n",
    "        #attention_heads_expanded = self.attention_heads.expand(word_embeds.size(0), 1, -1)\n",
    "\n",
    "        attention_heads_expanded = self.attention_heads.unsqueeze(0).expand(word_embeds.size(0), -1, -1)\n",
    "\n",
    "        r = torch.bmm(attention_heads_expanded, word_embeds.transpose(1, 2)) \n",
    "        a = F.softmax(r, dim=2)\n",
    "\n",
    "        weighted_sum = torch.bmm(a, word_embeds)  \n",
    "        concatenated = weighted_sum.view(word_embeds.size(0), -1)  \n",
    "        output = torch.sigmoid(self.output_layer(concatenated))\n",
    "\n",
    "        return output,a\n",
    "\n",
    "\n",
    "\n",
    "\n",
    "dataset = DataLoader(train_list, batch_size=1)\n",
    "frozen = FrozenAttn(len(word_to_index), 50, 4, \"128_y_mod.pth\")\n",
    "\n",
    "\n",
    "\n",
    "\n",
    "##########################\n",
    "# CHECK DEVICE\n",
    "##########################\n",
    "device = torch.device(\"cuda\" if torch.cuda.is_available() else \"cpu\")\n",
    "device = 'cpu'\n",
    "print(f\"Using device: {device}\")\n",
    "\n",
    "##########################\n",
    "# PARAMETERS\n",
    "##########################\n",
    "early_stop = False\n",
    "batch_size = 1\n",
    "learning_rate = 5e-5  \n",
    "window_size = 2  \n",
    "epochs = 1\n",
    "optimizer_choice = AdamW\n",
    "\n",
    "\n",
    "##########################\n",
    "# MODEL\n",
    "##########################\n",
    "\n",
    "frozen = FrozenAttn(len(word_to_index), 50, 4, \"128_y_mod.pth\")\n",
    "data_loader = DataLoader(train_list, batch_size=batch_size, shuffle=True)\n",
    "optimizer = optimizer_choice(lr=learning_rate, params=frozen.parameters())\n",
    "loss_fn = torch.nn.BCELoss()\n",
    "\n",
    "\n",
    "##########################\n",
    "# TRAINING\n",
    "##########################\n",
    "\n",
    "# LOSS STUFF\n",
    "\n",
    "actual_labels = []\n",
    "predicted_labels = []\n",
    "\n",
    "wandb.init(project='frozen3', name='frozen3')\n",
    "start_time = time.time()\n",
    "print(\"start time\", start_time)\n",
    "loss_data = []\n",
    "total_step = 0\n",
    "loss_sum = 0\n",
    "frozen.train()\n",
    "for epoch in range(epochs):\n",
    "    epoch_step = 0\n",
    "    for index, (token_ids, labels) in enumerate(tqdm(data_loader)):\n",
    "        \n",
    "        \n",
    "        token_ids = token_ids.to(device)\n",
    "        labels = labels.float().to(device)\n",
    "        \n",
    "        optimizer.zero_grad()\n",
    "\n",
    "        output, attn = frozen(token_ids)\n",
    "        output = output[0]\n",
    "        #print(\"output shape\", output.shape)\n",
    "        loss = loss_fn(output,labels)\n",
    "        loss.backward()\n",
    "        optimizer.step()\n",
    "        total_step += 1\n",
    "        epoch_step +=1 \n",
    "        #print(loss.item())\n",
    "        \n",
    "        actual_labels.append(labels)\n",
    "        predicted_labels.append(labels)\n",
    "\n",
    "        \n",
    "        loss_sum += loss.item()\n",
    "        \n",
    "        \n",
    "        if (index) % 5000 == 0:\n",
    "            f1 = run_eval(frozen, dev_list)\n",
    "            wandb.log({\"f1\": f1})\n",
    "\n",
    "        if (index) % 500 == 0:\n",
    "            wandb.log({\"loss last 500 steps\": loss_sum})\n",
    "            loss_data.append({'epoch':epoch, 'loss':loss.item(), 'epoch_step':epoch_step, 'total_step':total_step})\n",
    "            loss_sum = 0\n",
    "        if early_stop:\n",
    "            if total_step > early_stop:\n",
    "                print(\"BREAKING\")\n",
    "                break\n",
    "print(\"DONE\")\n",
    "end_time = time.time()\n",
    "print(\"end time\", end_time)\n",
    "\n",
    "\n",
    "######## d##################\n",
    "# PLOTS\n",
    "##########################\n",
    "frozen.eval()\n",
    "#loss_df = pd.DataFrame(loss_data)\n",
    "#sns.lineplot(data=loss_df, x='total_step', y='loss')\n",
    "\n"
   ]
  },
  {
   "cell_type": "markdown",
   "metadata": {},
   "source": [
    "# Inspecting what the model learned\n",
    "\n",
    "In this last bit of the homework you should look at the model's attention weights. We've written a visualization helper function below that will plot the attention weights. You'll need to fill in the `get_label_and_weights` method that uses the model to classify some new text and structures the attention output in a way that's specified. \n",
    "\n",
    "**NOTE:** most of the code for `get_label_and_weights` is code you've already written above."
   ]
  },
  {
   "cell_type": "code",
   "execution_count": 268,
   "metadata": {},
   "outputs": [],
   "source": [
    "def get_label_and_weights(text):\n",
    "    '''\n",
    "    Classifies the text (requires tokenizing, etc.) and returns (1) the classification label, \n",
    "    (2) the tokenized words in the model's vocabulary, \n",
    "    and (3) the attention weights over the in-vocab tokens as a numpy array. Note that the\n",
    "    attention weights will be a matrix, depending on how many heads were used in training.\n",
    "    '''\n",
    "    tokenizer = RegexpTokenizer(r'\\w+')\n",
    "    tokens = tokenizer.tokenize(text)\n",
    "    token_ids = [word_to_index[token] for token in tokens if token in word_to_index]\n",
    "    token_ids_tensor = torch.tensor([token_ids])\n",
    "    with torch.no_grad():\n",
    "        yhat, attn = model(token_ids_tensor)\n",
    "    label = 1 if yhat > 0.5 else 0\n",
    "    attn = torch.transpose(attn.squeeze(),0,1)\n",
    "\n",
    "    valid_tokens = [token for token in tokens if token in word_to_index]\n",
    "\n",
    "    return label, valid_tokens, attn\n",
    "\n",
    "    \n"
   ]
  },
  {
   "cell_type": "markdown",
   "metadata": {},
   "source": [
    "### Helper functions for visualization"
   ]
  },
  {
   "cell_type": "code",
   "execution_count": 243,
   "metadata": {},
   "outputs": [],
   "source": [
    "def visualize_attention(words, attention_weights):\n",
    "    '''\n",
    "    Makes a heatmap figure that visualizes the attention weights for an item.\n",
    "    Attention weights should be a numpy array that has the shape (num_words, num_heads)\n",
    "    '''\n",
    "    fig, ax = plt.subplots() \n",
    "    # Rescale image size based on the input length\n",
    "    fig.set_size_inches((len(words), 4))    \n",
    "    im = ax.imshow(attention_weights.T)\n",
    "\n",
    "    head_labels = [ 'head-%d' % h for h in range(attention_weights.shape[1])]\n",
    "    ax.set_xticks(np.arange(len(words))) # , labels=words)\n",
    "    ax.set_yticks(np.arange(len(head_labels))) #, labels=head_labels)\n",
    "\n",
    "    # Rotate the word labels and set their alignment.\n",
    "    plt.setp(ax.get_xticklabels(), rotation=45, ha=\"right\",\n",
    "             rotation_mode=\"anchor\")\n",
    "    \n",
    "    # Add the words and axis labels\n",
    "    ax.set_yticklabels(labels=range(attention_weights.shape[1]), fontsize=16)\n",
    "    ax.set_ylabel('Attention Head', fontsize=16)\n",
    "    ax.set_xticklabels(labels=words, fontsize=16)\n",
    "\n",
    "    # Add a color bar to show probability scaling\n",
    "    cb = fig.colorbar(im, ax=ax, label='Probability', pad = 0.01)\n",
    "    cb.ax.tick_params(labelsize=16)\n",
    "    cb.set_label(label='Probability',size=16)\n",
    "    fig.tight_layout()\n",
    "    plt.show()"
   ]
  },
  {
   "cell_type": "markdown",
   "metadata": {},
   "source": [
    "Example messages to try visualizing."
   ]
  },
  {
   "cell_type": "code",
   "execution_count": 267,
   "metadata": {},
   "outputs": [
    {
     "data": {
      "image/png": "[encoded data removed]",
      "text/plain": [
       "<Figure size 576x288 with 2 Axes>"
      ]
     },
     "metadata": {
      "needs_background": "light"
     },
     "output_type": "display_data"
    }
   ],
   "source": [
    "s = 'The man jumped up and had a ball'\n",
    "pred, tokens, attn = get_label_and_weights(s)\n",
    "visualize_attention(tokens, attn)"
   ]
  },
  {
   "cell_type": "code",
   "execution_count": 269,
   "metadata": {},
   "outputs": [
    {
     "data": {
      "image/png": "[encoded data removed]",
      "text/plain": [
       "<Figure size 432x288 with 2 Axes>"
      ]
     },
     "metadata": {
      "needs_background": "light"
     },
     "output_type": "display_data"
    }
   ],
   "source": [
    "s = 'eat pray love laugh live happy'\n",
    "pred, tokens, attn = get_label_and_weights(s)\n",
    "visualize_attention(tokens, attn)"
   ]
  },
  {
   "cell_type": "code",
   "execution_count": 263,
   "metadata": {},
   "outputs": [
    {
     "name": "stdout",
     "output_type": "stream",
     "text": [
      "\n",
      "Nothing special, seen many of these recipes online for free. 0 0\n",
      "\n",
      "A bit boring, a bit long. Too many sexual scenes. 0 0\n",
      "\n",
      "Did not have the end notes/references like my previous copy 1 0\n",
      "\n",
      "More of the same.... very well written holds my interest. 1 1\n",
      "\n",
      "Not as well written as I hought it would be 0 0\n",
      "\n",
      "Eye openning. Very inspiring. Makes looking at life very differently. 1 1\n",
      "\n",
      "As advertised, but not really what I was looking for. 0 0\n",
      "\n",
      "Like walking through three feet of mud. Slow, arduous, plotless. 0 0\n",
      "\n",
      "Love Celia Kyle's books, buy it you won't regret it 1 1\n",
      "\n",
      "Didn't enjoy as much as some of her other books 0 0\n",
      "\n",
      "Exactly as listed. My granddaughter loves it! Was shipped promptly. 1 1\n",
      "\n",
      "Not as good as the previous books in the series. 0 0\n",
      "\n",
      "This stuff is simply amazing...don't let it pollute your mind. 0 1\n",
      "\n",
      "You would spend a lot for all of the ingredients 0 0\n",
      "\n",
      "A waste of time if your not a Cubbies Fan 0 0\n",
      "\n",
      "Not very well written , rather thrashy but very readable. 0 0\n",
      "\n",
      "he teaches false doctrine about divorce and remarriage on page 98 0 0\n",
      "\n",
      "slow and dull. not nearly as entertaining as her first novel. 0 0\n",
      "\n",
      "Not horrible but not great. The ending is anti-climatic and inconsistent. 0 0\n",
      "\n",
      "I HAVE NOT RECIEVE THIS ITEM I CANNOT REVIEW ABOUT IT 0 0\n",
      "\n",
      "It was too dense. I quit reading after the first chapter. 0 0\n",
      "\n",
      "Print is too small- hard to read. Book is only 4\". 0 0\n",
      "\n",
      "Characters were uninteresting. Almost put it down for good but persevered. 0 1\n",
      "\n",
      "Interesting history of WWII in Europe in an area often overlooked. 1 1\n",
      "\n",
      "Excellent book as is the whole trilogy. Will read many times. 1 1\n",
      "\n",
      "It keeps you thinking you think you know but you don't 1 1\n",
      "\n",
      "The box arrived in the allotted time, it is good quality 0 1\n",
      "\n",
      "Great futuristic book. Could not wait to start reading every evening!! 1 1\n",
      "\n",
      "Beautiful. I gave it to my mom and she loves it. 1 1\n",
      "\n",
      "An oldie but goodie. Written many years ago but still timely. 1 1\n",
      "\n",
      "Very boring read. Read half of it and put it aside. 0 0\n",
      "\n",
      "Beautifully written. I couldn't put it down until I finished it. 1 1\n",
      "\n",
      "I did not find this book interesting enough to finish reading it. 0 0\n",
      "\n",
      "I am having sooo much fun with this series. Thanx Dakota Cassidy. 1 1\n",
      "\n",
      "It is ok, bot too much info i was jopping litter more 0 0\n",
      "\n",
      "Fantastic work. Slightly biased to the left but very honest and insightful. 1 1\n",
      "\n",
      "Very enjoyable read. Unusual for a mother-in-law & daughter-in-law to be allies. 1 1\n",
      "\n",
      "Repetitious, not worthy of a book, better suited as a magazine article. 0 0\n",
      "\n",
      "The binding is weak, we had pages fall out within a month. 0 0\n",
      "\n",
      "Interesting to see the lives of these women in a mans world. 1 1\n",
      "\n",
      "Ms. Hannah, as a great writing skill, enjoyed this one very much 1 1\n",
      "\n",
      "Nice idea, poorly executed. This book drones on and on and on... 0 0\n",
      "\n",
      "Didn't care for the writing style...jumping back and forth between 25 years 0 0\n",
      "\n",
      "Did not understand the jumping all over i years. Loved the writing 0 1\n",
      "\n",
      "My sister thought this was a wonderful. She recommends it very much. 1 1\n",
      "\n",
      "I liked the last chapter the best. The writing gets a F- 0 1\n",
      "\n",
      "This was required reading when I went to High School in PR. 1 1\n",
      "\n",
      "Bummer we didn't need it for our college course like we thought. 1 0\n",
      "\n",
      "If you have interest on computer security you better to read this book. 1 1\n",
      "\n",
      "my Husband is really enjoying this one!!! \"It's not just cutesy\" he says. 1 0\n",
      "\n",
      "Very stupid and a waste of my time. Im glad it was free. 0 0\n",
      "\n",
      "A Real page turner. I didn't care for the ending. I felt lost/confused. 1 1\n",
      "\n",
      "This book was awesome! I loved the characters every chapter kept your attention 1 1\n",
      "\n",
      "Did not enjoy this. It was my book club selection. Long and tedious! 0 0\n",
      "\n",
      "Having to make myself get through it. Only because it's a trilogy. \"Yawn\" 0 0\n",
      "\n",
      "fabulous story .. you can feel his words .. really wierd and exciting 1 1\n",
      "\n",
      "Pretty good, not quite as good as Ready Player One, in my opinion 1 1\n",
      "\n",
      "This book has given me some great ideas for lowering my ac1 numbers! 1 1\n",
      "\n",
      "Only one book? I have one VERY sad autistic child. Thanks a lot. 0 1\n",
      "\n",
      "Very vague and general. Waste of money, didn't help me in the least. 0 0\n",
      "\n",
      "The recipes are not coordinated with the ingredients. Nice layout but it doesn't work. 0 0\n",
      "\n",
      "It did not meet my expectation, I just wasted my money on this material. 0 0\n",
      "\n",
      "Don't bother. If you've ever used Office before, you know everything in this book. 0 0\n",
      "\n",
      "Great book. Accessible, but requires a few reads before it starts to sink in. 1 1\n",
      "\n",
      "It's like a fairy tale and I'm not 5 years old that's for sure 0 0\n",
      "\n",
      "Based on what I'm reading(wish I read this before I ordered), I'm very disappointed. 0 0\n",
      "\n",
      "The Travel Journal was very well received and already has been put to use. 0 1\n",
      "\n",
      "Far too many characters to follow and hated the ending. What a let down. 0 0\n",
      "\n",
      "Decent ending to the trilogy. Like the other books, it bogged down at times. 1 1\n",
      "\n",
      "My book arrived with more than 30 pages missing from the middle of it. 0 0\n",
      "\n",
      "Recommend for getting a better idea of what to study. Not entirely necessary though! 1 0\n",
      "\n",
      "I like most of Sawyer's writing, but this one was more wordy than story... 0 0\n",
      "\n",
      "Not necessary for NetAcad, as all of this is included in the online course. 0 0\n",
      "\n",
      "Started out great. Then it got stupid. Almost as if 2 different people wrote it. 0 0\n",
      "\n",
      "This book wasn't as good as me before you but still a heart stopping book 1 1\n",
      "\n",
      "Nice book written before modern electronics were in use. Man and boat vs the sea. 1 1\n",
      "\n",
      "they took 20 dollars cancelled book and there is nor refund more than 2 weeks 0 0\n",
      "\n",
      "Excellent and fun to read. I couldn't put it down. Tells it like it is. 1 1\n",
      "\n",
      "Bought as textbook. It's overpriced for its minimal context and it wasn't all that enlightening. 0 0\n",
      "\n",
      "I bought this expecting a CD, there is no cd and I wasted my money. 0 0\n",
      "\n",
      "Boring I read a few hundred pages and still did not get into the plot!!! 0 0\n",
      "\n",
      "Index poor. Information difficult to find. Why would concubines be listed under \"Education and Religion?\" 0 0\n",
      "\n",
      "Enjoyable ready. Took me a little while to get into it but lots of action. 1 1\n",
      "\n",
      "What a great story, well told with words and pictures. looking forward to Vol 2 1 1\n",
      "\n",
      "It was a little difficult catching up on all the characters but it was very enjoyable. 1 1\n",
      "\n",
      "We love our other NT books, this one was repetitive to a fault and just weird. 0 0\n",
      "\n",
      "For me it was supper boring maybe because I have read a lot about the subject 0 0\n",
      "\n",
      "This book has NO photos and was a huge disappointment to me. I'll be returning it. 0 0\n",
      "\n",
      "it arrived in japanese print...did not mention this when ordered..highly dissapointed..will retink any future amazon orders. 0 1\n",
      "\n",
      "I enjoy reading the Burn Notice books. Easy, quick, and it follows the TV show closely. 1 1\n",
      "\n",
      "I am so sorry I ordered this book. My expectations were high. Hand dropped the ball. 0 0\n",
      "\n",
      "So typical in content and plot. Nothing new to say and just adequately said at that. 0 0\n",
      "\n",
      "Sorry not my bag, too ambitious a plot which achieves little in the telling. Malcolm D.Griffiths 0 0\n",
      "\n",
      "Lame..just lame....64 pages of horribly written junk...sad that Gronks name has anything to do with this! 0 0\n",
      "\n",
      "Too long and dragged out. Five of us read it and all felt the same way 0 0\n",
      "\n",
      "time to move along and end this series. Too drawn out and too long between installments. 0 0\n",
      "\n",
      "silly book alot of same dogs used over and over in the pictures waste of money. 0 0\n",
      "\n",
      "This is a great story, but do your baby a favor and get the real version! 0 1\n",
      "\n",
      "The art by Janin perfectly captures Grayson's acrobatics and charm. This was Dick Grayson at his best. 1 1\n",
      "\n",
      "Reading it a second time - after watching movie - to see what I missed. Great book! 1 1\n",
      "\n",
      "Can't rate less than one star or i would. Sucks and stupid. I would like a refund. 0 0\n",
      "\n",
      "A total rewrite of the first book about killing time. Someone seems to be stuck for ideas. 0 0\n",
      "\n",
      "Thought this was a kids book. Read the first couple chapters and deleted it. Creepy and gross. 0 0\n",
      "\n",
      "Good detective stories. I have read all this series so far and have enjoyed them. Highly recommend 1 1\n",
      "\n",
      "My 8 year olf reads at a 5th grade level and this was way over his head 0 1\n",
      "\n",
      "Most interesting entertaining thoughtful well written Charles would give nothing but the very best to the people 1 1\n",
      "\n",
      "Great for teaching structure by utilizing the sample essays but not ideal for grammar as there are mistakes! 0 1\n",
      "\n",
      "The book is in excellent condition. Better than expected. Shipping took a little long but in the range 1 1\n",
      "\n",
      "Why do these books keep coming up when I search for Christian books?. Amazon need to fix this. 0 0\n",
      "\n",
      "Most of this book is just general test taking tips. Much of the computer science information is cursory. 0 0\n",
      "\n",
      "This is a paperback version, and not hardcover. Very disappointed in this considering the price charged for it. 0 0\n",
      "\n",
      "Way to far left and condescending to be of much use. Readers will feel they are being chided. 0 0\n",
      "\n",
      "Buy the digital copy. This ones about 100 pages shorter and you miss most of the good stuff. 0 1\n",
      "\n",
      "Bought this for windy Poplars but, despite being in the list of books included, it was not there. 0 0\n",
      "\n",
      "My house has never been so clean. It changed my perspective on things that come in this house. 1 1\n",
      "\n",
      "Along the lines of Fifty Shades but characters are not as well developed before all the craziness begins. 1 0\n",
      "\n",
      "A great Beverly lewis book once again ! Loved it . Can't wait till the next one . 1 1\n",
      "\n",
      "My 14 old daughter loved this book, she read it from cover to cover in less then 2 weeks. 1 1\n",
      "\n",
      "I ordered this because I know NOTHING about Outlook. It has been helpful and is very easy to understand. 1 1\n",
      "\n",
      "This did not live up to the books in the slightest, or even the movie for that matter. :( 0 0\n",
      "\n",
      "It was an exciting an exciting story and I've ordered more of his books read it you'll live it 1 1\n",
      "\n",
      "Delivery is on time as promise, book is in great cond. Great seller. Thank you! Will do business again. 0 1\n",
      "\n",
      "I thought the book was interesting but I wish Candace would have put more supernatural elements in the house. 1 1\n",
      "\n",
      "Read everyone of his books, and so happy I can order and get them quickly at truly great prices.... 1 1\n",
      "\n",
      "I felt the model was in appropropriate for classroom teachers conducting research in their own classrooms. Far too extensive. 0 0\n",
      "\n",
      "Read this years ago and wanted to do it again. It has a real interesting argument to be made. 1 1\n",
      "\n",
      "Not as good (wrt self-referential page pointers and guides) as the canonical IPv4 version of this, but it's good. 1 0\n",
      "\n",
      "Good continuation of the series. Just wish it was a bit longer. Better written than most of this genre. 1 1\n",
      "\n",
      "Yawn..............I used to enjoy Silverberg's books and stories. What has changed? Not very well done. I cannot recommend this. 0 0\n",
      "\n",
      "It was so unbelievable I just couldn't get in to it. Sorry but I would not recommended this book. 0 0\n",
      "\n",
      "Probably the worst book I've ever read. I shouldn't have persisted with it but I'm a sucker for punishment! 0 0\n",
      "\n",
      "A very strange play. That's about all I can say to sum this play up. Very strange and disturbing. 0 1\n",
      "\n",
      "My impression is that this book is about project management, not so much about how to connect with a pupil. 0 0\n",
      "\n",
      "Rising's premise is very unique. Love Holly Kelly's writing. Wonderful characters and looking forward to more of the Darconian wolrd. 1 1\n",
      "\n",
      "We now have the complete set of these books and our 8 year old has enjoyed reading all of them. 1 1\n",
      "\n",
      "Great book for someone to use to learn to include deaf friends and co-workers - simple but clear and helpful! 1 1\n",
      "\n",
      "Great book for keeping up to date with Cisco. Highly recommended by my professor and others who took their CCNA. 1 1\n",
      "\n",
      "Couldn't even get past the first chapter! Probably, the worst written book I've come across in a while. Total suck! 0 0\n",
      "\n",
      "This book is well written and includes very good information for counselors. I would recommend this book to my colleges. 1 1\n",
      "\n",
      "Such a Lauren fan. Loved all the details of her life story including her amazing TV characters. Highly recommend it 1 1\n",
      "\n",
      "This was one of the best books I have read this year. Absolutely loved the story line and the characters. 1 1\n",
      "\n",
      "This is the best. Ordered copies for all the ladies in my Life Group at chirch. They will enjoy it, 1 1\n",
      "\n",
      "Having visited Edinburgh several times I was mentally taken there by this fine author. Can't wait to read book 2. 1 1\n",
      "\n",
      "It's in ok condition. Packaging could have been better as it was wet when received. It is use able though 0 0\n",
      "\n",
      "Unbelievable amount of spelling errors throughout the Kindle version of this book. Good story, but the delivery was very distracting. 0 0\n",
      "\n",
      "So unworthy of remembering. I started it but never finished it. Would not recommend it to friends or my enemies 0 1\n",
      "\n",
      "This \"book\" doesn't even feature the complete movie's story...it stops about halfway through with the line....\"...but that's another stroy...\" Lame.... 0 0\n",
      "\n",
      "Disappointing. As an avid fan from the beginning this just didn't really tell a story and then just abruptly ended. 0 0\n",
      "\n",
      "I couldn't put it down, I wish the end was better though. Less miserable, and had more life to it. 1 1\n",
      "\n",
      "A nice read that makes you think there is away to start life over and find happiness inlife and love! 1 1\n",
      "\n",
      "Nnnn begun giggle when the first place in its first half of the tee iPad version is the only one 1 0\n",
      "\n",
      "nice story, entertaining and engaging... loved the author's style. would recommend it as a free time read. nothing too intense! 1 1\n",
      "\n",
      "I hate all books, and I hate that classes make you spend so much money on stupid books, it sucks 0 0\n",
      "\n",
      "It is rubbish. I don't know where they get their information, but it just did not grab me at all. 0 0\n",
      "\n",
      "Not the best read, didn't really get anything from the book. Basically throw things out. Maybe try another book instead 0 0\n",
      "\n",
      "Ugh. Poorly written. Not worth the dollar it costs. I'm not that discerning but I couldn't bear even two chapters. 0 0\n",
      "\n",
      "I ordered this product because of my busy schedule. The recipes look great and simple. Looking forward to trying them. 1 1\n",
      "\n",
      "Lost interest and quit reading. Half of the book was about Noor and where she was born and raised. Darron 0 0\n",
      "\n",
      "Great read and a great addition to the Christian library. References to be looked backed upon for a Christian study. 1 1\n",
      "\n",
      "a practical and informative book which is up to date on latest medical illnesses. Applicable to Australian medical circumstances also. 1 1\n",
      "\n",
      "Another Best Seller! I loved the story of Kim and Wray. When is the next book coming out? More books please! 1 1\n",
      "\n",
      "Kept you interested the whole time, great story behind it. Would love to see part 2 if there will be one 1 1\n",
      "\n",
      "Loved the story and characters. A true Cinderella story. The passionate scenes were done tastefully. A very easy book to read. 1 1\n",
      "\n",
      "Always enjoy Chet and Bernie. What can I say. If you like these books you will certainly like this one too. 1 1\n",
      "\n",
      "It seems like a decent autobiography - slightly entertaining - as everyone knows Amy is very forthcoming about her sex life 0 1\n",
      "\n",
      "The descriptions the writer's encounters were very well written. One could only imagine what our soldiers go through--the sacrifices, brotherhood, etc. 1 1\n",
      "\n",
      "This was a fascinating story. The twists and turns kept you wanting and reading more. I wish their was a sequel.... 1 1\n",
      "\n",
      "It was more for K-5 group and I was looking for jr high or high school age. Overall a good book. 0 1\n",
      "\n",
      "This book is very 2 dimensional. It has no depth. It is one woman's story. I could not get through it. 0 0\n",
      "\n",
      "Just what I needed in addition to some online iTunes resources to study for my PMI exam. Good purchase and value. 1 1\n",
      "\n",
      "Good book I read it. To become familiar with the author. Expresses the meaning of life to a boy in Japan 1 1\n",
      "\n",
      "A very enjoyable read with a plausible plot line. Warning, there is one very graphic sex scene about half way through. 1 1\n",
      "\n",
      "This book is high quality with beautiful pictures and a lot of fascinating insight. I have not finished reading it yet 1 1\n",
      "\n",
      "I needed this for a college course. It was mostly anecdotal and not very helpful with the assignments that accompanied it. 0 0\n",
      "\n",
      "Read about one-half of this installment. Nothing in what I read made me want to finish this installment, nor future installments. 0 0\n",
      "\n",
      "We have found the Cruising Guide of SC extremely helpful and accurate. We would have missed much without the great advice. 0 1\n",
      "\n",
      "The great story teller continues in another chapter of his skillful enchantment . Too good once again as the saga continues. 1 0\n",
      "\n",
      "Boring due to the many cliches and all the gaps in the storyline. Better luck for the author next time. lhm 0 0\n",
      "\n",
      "I loved this book which was really cute for me but the ending sort of never ended it just left off...... 1 1\n",
      "\n",
      "The characters in this novel are really annoying. They are overly dramatic. There are realistic scenarios meet with very unrealistic reactions. 0 0\n",
      "\n",
      "This got 4 stars because of the suspense element. The romance aspect seemed a bit boring and unrealistic in some parts. 1 0\n",
      "\n",
      "Enjoyed reading this book! Recommend,if you like mysteries. Will be reading more books from this author. Happy reading to you all. 1 1\n",
      "\n",
      "Well written....And extremely fluffy without much real detail. I would be much better watching a 5 minute You Tube \"How To...\". 0 1\n",
      "\n",
      "Excellent series. Recommend all three books. You don't want to put the book down, it keeps you suspense until the end. 1 1\n",
      "\n",
      "i find this book interesting and am in the hopes that i can use a lot of the information in it 1 1\n",
      "\n",
      "Very strange. Seemed to wander and then would start giving the history of various things like sugar. Really not for me. 0 0\n",
      "\n",
      "Not the W.E.B Griffin I love reading. I really really disliked this book. Not recommended to anyone. Too bad Clancy passed. 0 0\n",
      "\n",
      "Way tooooo many details. Book could have been half as long if every description wasn't so wordy. Plot was good enough. 0 0\n",
      "\n",
      "Enjoyed the entire series. Look forward to more from this author. Classic Good v. Evil fantasy with believable, if fantastical characters. 1 1\n",
      "\n",
      "The book started off slow but towards the end it was great. I hope there is a sequel to this book. 1 0\n",
      "\n",
      "Works great shipped fast would highly recommend this product. Holy crap I cant believe how great it is. W O W 1 1\n",
      "\n",
      "Very dull and boring for my 5 year old. Far too repetitive to offer interest. The price was right - FREE. 0 0\n",
      "\n",
      "Had to read this book for literature circles at school and its pretty boring i don't really like it that much 0 0\n",
      "\n",
      "If you are a beginning G-code writer or are interested in learning G-code in a hobbyist capacity, this book is useless. 0 0\n",
      "\n",
      "Not what I expected. Did not find out much. Maybe I look again latter and see if I can find anything 0 0\n",
      "\n",
      "Arrived from seller actually growing beautiful, long-stemmed white mold spores and reeking of what might have been insecticide. Prompt refund, tho. 0 0\n",
      "\n",
      "I love a good mystery, and this is one. A little too much mush for me, so I rated it 4 stars. 1 1\n",
      "\n",
      "This is a delightful way to be reminded of the experience while being entertained by a wry observer and a satisfying plot. 1 1\n",
      "\n",
      "This book is a joke. It doesn't list fiber and the first recipe has 36 carbs and a banana as an ingredient! 0 0\n",
      "\n",
      "A good romance. Kept my interest in story concerning a time that has pasted but fun to read .Hope others enjoy it. 1 1\n",
      "\n",
      "Odd book, seems predictive, yet supported by new science. It is as if Steven King story became true. And a good story. 1 1\n",
      "\n",
      "This book keeps you wanting to no whats next a very good and easy read keeps you wanting more verry good book 1 1\n",
      "\n",
      "Relaxing, enjoyable read. Good character development, written with insight of the human condition, humor and warmth. Recommend it for light, relaxing reading. 1 1\n",
      "\n",
      "I enjoyed Safe Haven. Nicholas Sparks has a likeable style of writing. I would recommend this book,it was also a quick read. 1 1\n",
      "\n",
      "Interesting story line that is well developed with amazing characters that you cant help but like. I voluntarily read an advanced copy. 1 1\n",
      "\n",
      "Easier than other 4th grade math we have done. Heres an example of a poorly written problem: (starting with Mark has $20) 0 0\n",
      "\n",
      "Well written action adventure story! Great characters, lots of action! Well done Mr. Wright! Looking forward to more adventures of Xander King! 1 1\n",
      "\n",
      "the language and strange names makes for a difficult read. cant keep thecharactera straight. im giving up at about half way rhru. 0 0\n",
      "\n",
      "Story is whimsical with the mystery plot. Enjoyed the characters and the cats which make a delightful addition to the story's plot. 1 1\n",
      "\n",
      "Hey JL, where is the next in the series? I know, writing is a tough gig, but I want to see more. 1 1\n",
      "\n",
      "Wandering into science fiction is not normally my thing. I found it enthralling and so just had to read the two books. 1 0\n",
      "\n",
      "Good plot easy to read. Well developed characters and story line. Main character Libby is very real and easy to relate to 1 1\n",
      "\n",
      "I found this book very helpful and informative. I have been reading it again to pick up as much information as possible. 1 1\n",
      "\n",
      "I really enjoyed the book every much want to get the rest of them in time. I really enjoyed myself. Thank you 1 1\n",
      "\n",
      "I enjoyed this book, it kept me interested throughout the storyline. I look forward to reading the next one in this series. 1 1\n",
      "\n",
      "Really not useful book. Bought it because it was required by the course I was taking. Worst textbook I have ever had. 0 0\n",
      "\n",
      "I'm sure I'd enjoy this book but for some reason it has so many missing pages I can't get the whole story! 0 0\n",
      "\n",
      "This book,originally released in 1974, is still packed with knowledge for anyone interested by its title. Great for a novice like me! 1 1\n",
      "\n",
      "There are many simple recipes to use natural items in making anything from dishwashing soap to dryer scents. Detox the whole home. 1 0\n",
      "\n",
      "What is the purpose of following this one person? More of the legal process might make it more worthy of a read. 0 1\n",
      "\n",
      "This started out really good, but the ending was WAY too inplausible. Absolutely hated the ending. Made the whole book seem ridiculous. 0 0\n",
      "\n",
      "This book was long and boring.... It could have been half as long to get to the boring point. Would not recommend. 0 0\n",
      "\n",
      "Cannabis infused milk, & cream, cannabis butter! the basic parts of the recipes looked good. But seriously not what I was expecting. 0 0\n",
      "\n",
      "There's not much to recommend about this book -- the plot line never really went anywhere compelling and the characters were one-dimensional. 0 0\n",
      "\n",
      "The different world's were getting a little confusing for a minute but if you just stick with the characters you'll keep up 1 0\n",
      "\n",
      "This is the first book I have felt the need to review! It is first class on all levels! A must read! 1 1\n",
      "\n",
      "I am a true lover of animals...the author really has you believing you are reading the dogs words!! I absolutely loved it! 1 1\n",
      "\n",
      "I enjoyed the characters very much. The story, though compelling did have some slow moments half way through and towards the end. 1 1\n",
      "\n",
      "There. Is nothing to like about this book. The characters are weak, and the descriptions of Paris and the French are ridiculous. 0 0\n",
      "\n",
      "I could see where the story line was heading and was not surprised at the ending. Looking forward to what happens next 1 1\n",
      "\n",
      "It was interesting. I like the recent books better, as the characters are more refined and interesting than in this older book. 0 1\n",
      "\n",
      "The product they gave me was nothing like what was described on their overview of the product but it was ok serivce. 0 0\n",
      "\n",
      "A wonderful book. I couldn't put it down. It gave me some really good things to think about in my own life. 1 1\n",
      "\n",
      "I am only a few pages into this book. There are so many typos and grammar errors that I am feeling underwhelmed. 0 0\n",
      "\n",
      "I have read all of Leonard's books, except Raylan; but, now even this one has been read. Well written, and quite hilarious.. 1 1\n",
      "\n",
      "Bought to be able to read easier. I had a pocket book and the printing was too small. Looks in good shape. 1 1\n",
      "\n",
      "Thank heavens for all the pictures! It can be hard to visualize everything, but I'm working my way through it. Excellent information. 1 1\n",
      "\n",
      "Draged, wondered and just plain boring. Sorry but I just could not get into this book. So glad to have finished it. 0 0\n",
      "\n",
      "This is not a very good book. I have read a few others on the subject and this is just not good 0 0\n",
      "\n",
      "fits very odd. You have to have the shirt off the shoulder or the sleeves are not even. Lame. I donated it. 0 0\n",
      "\n",
      "I loved the unusual story line. It definitely kept me interested. I thought it was a great read and I would recommend it. 1 1\n",
      "\n",
      "This short book kept my interest, funny at places, really liked reading it. It was a little graphic at places but very interesting. 1 1\n",
      "\n",
      "A very creative book, imagining a world of cults, supernatural adventures and love. Strange mix but it works wonderfully. Left me wanting more... 1 1\n",
      "\n",
      "I enjoyed the authors style of writing and the storyline. Did however find it a bit drawn out and could have been condensed. 1 1\n",
      "\n",
      "Very interesting. Kept on the edge of my seat. Mr. Carter makes it hard to put the book down. I thoroughly enjoyed it. 1 1\n",
      "\n",
      "Dont start this book if you need to get to sleep! Fast paced and great plot. Another exciting Grant Stevens Joe Adler adventure. 1 1\n",
      "\n",
      "Great story! Could not put it down! The author did a magnificent job blending the two stories together. For historical fiction, great book! 1 1\n",
      "\n",
      "I'm pleased with the text and pictures in this book. Great ideas for the all white dcor I'm going with in my home. 1 1\n",
      "\n",
      "This is a book fundamentally formularic that fails to develop its characters fully, while of a summertime light reading genre fails to satisfy. 0 1\n",
      "\n",
      "Pages Crinkled and book soiled. I bought one at a garage sale for 25 cents that was in better shape than this one. 0 0\n",
      "\n",
      "Great book. Thoroughly enjoyed reading it. Right up there with Suspect as one of Robert Crais' best. Looking forward to more Elvis Cole. 1 1\n",
      "\n",
      "I didn't like the book. There were no details, no disturbing scenes. In my opinion two murders does not make a serial killer. 0 0\n",
      "\n",
      "Not enough real world examples , ideas were very vague , not focused enough , it is a copy of Tim Ferris' work 0 0\n",
      "\n",
      "A compilation of other people's short stories, not what I expected, I like series and I was hoping for more, but got less. 0 0\n",
      "\n",
      "Ending finished abruptly leaving the reader up in the air. No clear series sequence to show which book of Coulter's to read next. 0 1\n",
      "\n",
      "too many characters and the stories are too disjointed. You become totally disinterested in the characters because he drags the stories so much 0 0\n",
      "\n",
      "Really disappointed. There is nothing here that you can't go find on the web and learn from any other nutrition book or magazine. 0 0\n",
      "\n",
      "This parallel Bible but the verses are not numbered so u can compare to the NIV No I would not refer this Bible 0 0\n",
      "\n",
      "Ugh. I am dumber for having reading this crap. My 10 year old would love it... And could probably write a better book. 0 1\n",
      "\n",
      "Super thin paper. Feels cheap. All of this info seems to be available in electronic apps that are useable without a cell signal. 0 0\n",
      "\n",
      "A lot of vomit and urine plus a handgun with a \"nozzle\". Also, most of the characters don't bathe and wear dirty clothes. 0 0\n",
      "\n",
      "I found parts of the story a bit far fetched and the characters superficial. It was not as good as Hildebrand's previous novels. 0 0\n",
      "\n",
      "love this book and I am a big fan of striderIs the 2 best character of the book. I Lauren love this book. 1 1\n",
      "\n",
      "The story was a little disconnected. I found it disconcerting to try and follow from one chapter to the next. It didn't \"flow\". 0 0\n",
      "\n",
      "I will be honest...the first few chapters lagged for me. The rest kept my attention thoroughly! Do do love reading all Amish though... 1 1\n",
      "\n",
      "Does not come anywhere close to what I would expect from Ms Rice. No surprises only grasping for a new genre. Too bad. 0 0\n",
      "\n",
      "I hated this book it was a rambling read and not in a good way. It didn't really have a point or ending. 0 0\n",
      "\n",
      "I suppose one might enjoy this book if they were to enjoy romance novels. They are just not my cup of tea...too predictable. 0 0\n",
      "\n",
      "I have downloaded this book onto my kindle app for iPad but am not sure how I get the music? Can anyone assist? 0 0\n",
      "\n",
      "Not up to his usual great work I enjoy. Maybe because it was a short story rather than one of his longer novels. 0 0\n",
      "\n",
      "the author tries to show how superior to his stupid audience. The editing is poor--too many grammar and typographical errors, words left out. 0 0\n",
      "\n",
      "Haven't read half the book yet and am very offended. Please remember this is advice and not how one MUST operate in life. 0 0\n",
      "\n",
      "This is lady is so full of crap I cantbelieve it....but I do.holy bullcrap fest!!Why did I even read this?Next time I'll know better 0 0\n",
      "\n",
      "Have just gotten to the part where Nick is searching frantically for Amy. She has suddenly disappeared withou A trace Where could she be??? 0 0\n",
      "\n",
      "It was too dark for my literary tastes. It made me sad and wonder how many seek happiness in the seamy side of life. 0 1\n",
      "\n",
      "Kind of outdated at this time, although the history of the beginning of the building is interesting. Not enough material for a whole book. 0 0\n",
      "\n",
      "It was OK but very short in length. Not what I expected. I accidently ordered, thinking it was book 7 of the series. Oops. 0 0\n",
      "\n",
      "I tried some of these and they were great, but I realized that without pictures in a cookbook, I'm more likely to google something. 0 1\n",
      "\n",
      "idiot and impossible fiction story i hope next books author does not insult other's intelligence in general the idea of the story is good 0 1\n",
      "\n",
      "I had a hard time at times with the Australian choice of wording and brand names. It 's an okay story, but mostly conjecture. 0 0\n",
      "\n",
      "to loosely connected. I did not get the connection between the storyline and the intellectual group that he was associated with. Maybe my fault. 0 0\n",
      "\n",
      "Very practical commonsense and different approach to changing your eating habits, expressed as a gradual manageable and understandable process, not a battle of willpowers 1 1\n",
      "\n",
      "We love Nancy Tillman. Everyone should own the entire collection I'm a sucker for the gorgeous illustrations (children with animals) and the beautiful messages. 1 1\n",
      "\n",
      "slow start but a good read. once the action got going, it was hard to put down. Like all of his books, great characters. 1 1\n",
      "\n",
      "Despite Landon staying besotted, this is a fun read. The ghostly effects are getting colorful. But Tillie's magic shovel still has a mysterious future.... 1 1\n",
      "\n",
      "Can't go wrong with Rachael Ray - we have several of her cook books and always can mix it up with what we make 1 1\n",
      "\n",
      "I really enjoyed reading this book. I did not know much about Polly Jefferson, and I thought that she was a remarkable young woman. 1 1\n",
      "\n",
      "I borrowed this one thru Amazon Prime, as I think it's good to try other genres, but I really couldn't get into the story. 0 0\n",
      "\n",
      "Outstanding bio. Shipped as described. Came pre-highlighted. Fortunately, the last reader only marked and dog-eared the really important parts so I didn't have to. 1 0\n",
      "\n",
      "Once you start reading this book it will be very difficult to put it down until you are finished. It sure kept me going. 1 1\n",
      "\n",
      "A bit too much of a cliff notes summary of an important figure in history. Left me wanting more, much more, on many levels. 0 1\n",
      "\n",
      "As of 5/16/2017 this ebook does not work. I tried to rent it and received some book on diversity in organizations. Don't waste your time. 0 0\n",
      "\n",
      "I gave these books to my surrogate granddaughter. She loved them. I got the first 3 books & she wants the rest of the series. 1 1\n",
      "\n",
      "Storylines very biased. Didn't like at all. Total attempt to take away personal second amendment rights or at best a warped interpretation of the amendment 0 0\n",
      "\n",
      "I found it very difficult to stay involved in this book. It felt like I was reading the same thing over and over. Disappointed !! 0 0\n",
      "\n",
      "Story began about a marriage breakup but turned into a vulgar encounter. That is when I stopped reading this book. Not my \"cup of tea.\" 0 0\n",
      "\n",
      "Well written, historically-rich book about interacting with those from another period in history, and getting through the grief of the death of a beloved spouse. 1 1\n",
      "\n",
      "A waist of money, I don't feel there is any \"meat\" of vodou in this book. Lots of fluff about how vodou has been mis-understood. 0 0\n",
      "\n",
      "This book keeps me reading. It has lots of information about times past, but not boring. You learn as you read. Great story, very interesting. 1 0\n",
      "\n",
      "You can escape into the lives of two Americans gone British. She will share her clothing challenges and he his own. Plot s virtually nonexistent. 0 1\n",
      "\n",
      "The office. I will definitely look into the rest of her books in the series, as tattoo artists have always been hot in my book. 1 1\n",
      "\n",
      "Lame, pretentious, frusterating, aggravating and it sucks too! Can't wait to burn it with the crazy church people down the road. An offense to Jesus! 0 1\n",
      "\n",
      "I always meant to get around to read this book. Now I'm sorry I wasted my time. Should have left out the entire second half. 0 0\n",
      "\n",
      "Este libro esta muy lindo. .y me comfirma lo que haba experimentado ..Jess vive y esta lleno de poder..para todos aquellos que no creen. .creanlo!!!! 1 0\n",
      "\n",
      "Repetitious, verbose and boring. Interesting plot concept but explained to nth degree and then repeated. Did not finish - lost in the jungle of words. 0 0\n",
      "\n",
      "Too many grammatical errors along with very stilted and unrealistic dialog. Add in pages of needless exposition and repetitive dialog and exposition ruin this book. 0 0\n",
      "\n",
      "This book sets the stage for the coming ones. It is important on the first book to set a good base for the future ones. 1 1\n",
      "\n",
      "I have other Cds by Brian Weiss & this one uses many of the same lines & Catch phrases. wasted my money on this one! 0 0\n",
      "\n",
      "I read this book about ten years ago. what a great story! It was sad and scary for sure, but a real big eye opener. 1 1\n",
      "\n",
      "This was a required book for school. It was great for the class. It would not be something I would buy on my own though. 1 0\n",
      "\n",
      "Great book. Interesting. Lots of twists and turns to the story. Quite enjoyable to read. Hard to put down. Holds a little of every emotion. 1 1\n",
      "\n",
      "This does not give any information on growing as far as light schedules, plant nutrition, pH levels, anything required for a successful grow.waste of time! 0 0\n",
      "\n",
      "A great read for a long airplane ride. Enough to keep you interested but not too much to overthink! I'll be reading book 2 soon. 1 1\n",
      "\n",
      "I read this book cover to cover on a cross country flight. This book did not wow me whatsoever. The story was shallow and predictable. 0 0\n",
      "\n",
      "Great, in-depth research about how the jesuit-controlled CIA and other US government assets design and manipulate our entertainment and publishing sectors to influence the public. 1 1\n",
      "\n",
      "I was a big fan of The Goal and Its Not Luck...didn't find this book as interesting but not a bad read all the same. 1 0\n",
      "\n",
      "after reading this book i made sure i got Lorna's other books I was fasinated by her stories and will pass the book to others 1 1\n",
      "\n",
      "Sweet. Loving. Gentle. Beautiful. Love story. Some bad moments due to the power moms, her ex and his family. But good warm feelings at the end. 1 1\n",
      "\n",
      "Beautiful love story! It really reminds me of my marriage in which forgiveness and communication keep us strong. I'll definitely be looking for the next book! 1 1\n",
      "\n",
      "Very heartfelt. An easy read. Strong characters. All the more affecting because it was a true story. The Italian Alps became one of my favorite characters. 1 1\n",
      "\n",
      "Loved the unique Sci-Fi premise. I found it ran out of steam in the 2nd half however, but it's not too long to be a problem. 1 1\n",
      "\n",
      "This book just wasn't what I expected, and I thought it was rather poorly written. I didn't even finish it before I sold it on line. 0 0\n",
      "\n",
      "Really cumbersome to read. It grinds on and on. I really like this man and thought his book would be a good one. It is not. 0 1\n",
      "\n",
      "This was a great read!! The author kept me so captivated that I couldn't put the book down.. Definitively look forward to the sequel. Great job! 1 1\n",
      "\n",
      "This is the book I go to first for info on how to use plants and stories about the plants - easy reading and very informative. 1 1\n",
      "\n",
      "It is one of the best spanish learning books for kids. The pictures are very good and they are things that you see in your life. 1 1\n",
      "\n",
      "Bought this for my 5th grade son. He loved the series and took AR tests and aced them. Based on his reaction I would highly recommend. 1 1\n",
      "\n",
      "My almost-five-year-old granddaughter loved this gift because she could read it \"all by herself.\" Very important to her to be in control at her age, evidently. 1 1\n",
      "\n",
      "Did he really write this? Outside of a few bits of dialog, I would say his wit and plot abandoned him on this story. Very disappointing. 0 0\n",
      "\n",
      "A really good book to be read in small doses. It is almost 600 pages long and is packed with Stoic Philosophy and wisdom. Highly recommend 1 1\n",
      "\n",
      "While there are two or three captivating nature shots, the rest of the photographs on this wall calendar is less than satisfactory for the asking price. 0 0\n",
      "\n",
      "I recommend this book for people who want to know about culture and leadership...it is also inspiring for those companies that want to succeed for years. 1 1\n",
      "\n",
      "This book is great for those of us who like to have a step by step instruction guide to refer to. Plain language, easy to comprehend. 1 1\n",
      "\n",
      "I enjoyed this story very much. It was a new and refreshing spin on a love story. I look forward to reading more of H.M. Ward. 1 1\n",
      "\n",
      "Interesting book until the author just quit writing. There was no ending to the story. Who was the editor who thought this was a complete story. 0 0\n",
      "\n",
      "I found the subject confusing. I could not get into it So many books and so like time. I have to go to the best one 0 0\n",
      "\n",
      "Great characters with a fun story. Brings you in from the start and by the end you feel like one of the members of the Tigers 1 1\n",
      "\n",
      "This is an advanced peyote stitch, I won't say book because it's as thin as a magazine with maybe 10 patterns. Not worth the price. https://www.amazon.com/dp/5766802269/ref=cm_cr_ryp_prd_ttl_sol_7 0 0\n",
      "\n",
      "Inaccurate description of what the Mossad is, and its mission; written in first chapter of the book, sets the stage for me not to continue reading it. 0 0\n",
      "\n",
      "Melissa you really need to be more responsible on what you put out there. I hope you evolve into someone who isn't a complete waste of air. 0 0\n",
      "\n",
      "didn't realize when I started it that the \"era\" switched back and forth but did enjoy the book once I really got into it. kept me curious. 1 0\n",
      "\n",
      "The book wasn't what I expected. It may be a ghost story but I couldn't get through the lustful yearnings. Others could find it to their taste. 0 0\n",
      "\n",
      "The plot was unconvincing. All the problems just went away. Some of the action was totally unbelievable. However, I did enjoy the short story within the novel. 0 0\n",
      "\n",
      "This bible has been used for confirmation class for several years. Very accessible. After having lost 2nd bible, bought used copy - good condition, a few highlights. 1 1\n",
      "\n",
      "I enjoyed deadlocked but I wasn't expecting anything amazing. It's a good quick read, but I think it's time for the series to come to a close. 1 1\n",
      "\n",
      "I was hooked right away and could not stop reading. I love anything sci-fi, post-apocalyptic, or zombie related so this was a super fun read for me. 1 1\n",
      "\n",
      "Loved the book and storyline. Kept me intrigued and looking forward to learning more about the past as well as what the future would hold for Avery. 1 1\n",
      "\n",
      "Waking Up Married was a fascinating story about doing things backwards, getting married, then getting to know each other later. Drinking didn't help to make good decisions. 1 1\n",
      "\n",
      "Too preachy, and half the book is a waste of time. I enjoy the Scott Harvath series from Brad Thor, but it is starting to go downhill. 0 0\n",
      "\n",
      "Writing quality is uneven, a little repetitive but story line was good and I loved all the quirky characters, they were the best part of the book. 1 1\n",
      "\n",
      "An amazing story of survival,forgiveness,and God's infinite love. We can all learn from Immaculee. God soften the hearts of man, so we can love more like you. 1 1\n",
      "\n",
      "This book was a wonderful read for pre teens. especially if your looking for something clean for them to read. It is filled with adventure and fun. 1 1\n",
      "\n",
      "I ordered this book at the recommendation of some academic friends. . they might like it but it is not an easy read. Pretty technical I thought. 0 1\n",
      "\n",
      "Delightful, emotional, humorous, this book has it all. It's filled with deep emotions from laughter, to tears to frustration & then the joy of healing. Loved it! 1 1\n",
      "\n",
      "I really enjoyed this book. Ok am 27 years old but really found it fun to read about the fun crazy life of a 18 year old. 1 1\n",
      "\n",
      "The book has a lot of good information on how to get started and operate the different systems in office 2010. It is different from office 2007. 1 1\n",
      "\n",
      "i use this book to complement my Iyengar yoga practice. It has a bit of philosophy, gives a thorough description of the asanas, and lessons for students. 1 1\n",
      "\n",
      "After being excited to get this book, I found it to be too strategic for me to comprehend, so I gave it to someone I knew would understand. 0 0\n",
      "\n",
      "I have never enjoyed a biography like this. It inspires and speak to your struggles. Just an amazing book. Sometimes I find myself laughing while reading the chapters. 1 1\n",
      "\n",
      "Like the book's dedication to cooking for two. We need this. Wife is getting this for Christmas - time will tell if she likes and uses the recipes. 1 1\n",
      "\n",
      "This is a great handbook that would be helpful to anyone just beginning to more thoroughly study the scriptures. It's historically informative, interesting, and easily readable. Highly recommended. 1 1\n",
      "\n",
      "Story was slightly disjointed. I can see what was the goal but it missed fantastically. Unbelievable circumstances, names were used where the characters weren't present. Just not great! 0 0\n",
      "\n",
      "I had to skip too many chapters, couldn't read to filthy. Returned for a refund. Sorry you felt you had to get in the gutter with this one. 0 0\n",
      "\n",
      "Real life events and situations enlivened with love even under the threat of evil. Abandonment and adoption twist and turns with love and a generous happy ever after. 1 1\n",
      "\n",
      "I am a big Suzanne Brockmann fan but I find poor communication as a plot device pretty tedious. This is definitely not on par with her usual work. 0 0\n",
      "\n",
      "A great book that makes you stop and think, plus answers a few puzzling life questions and puts you at ease. Let it go, give it to God. 1 1\n",
      "\n",
      "I read this book as slowly as I could to savour every bit of it. As usual I am left wanting the next book. I love these books. 1 1\n",
      "\n",
      "it wasn't what I expected according to the title and description of what it contained, especially after I received it and browsed through the days of the calendar. 0 0\n",
      "\n",
      "this is a great sequel to the first book. The Author is really able to capture the reader and bring him/her into the world of a collapsed America. 1 1\n",
      "\n",
      "per page and I find it very offensive..... the book would be so much better without it, a thesaurus would help with finding words to replace this expletive! 0 0\n",
      "\n",
      "We love American Girl and my 7 year old enjoys this book. We are a homeschooling family so it really opened up to learning about the underground railroad. 1 1\n",
      "\n",
      "This book was such an easy read. Chris opens his heart to tell the love story he and Selena shared. I highly recommend this book to any Selena fan. 1 1\n",
      "\n",
      "The writing on this second book was much improved. I'm glad I bit the bullet and purchased this one. I can't wait to get on to the next one. 1 1\n",
      "\n",
      "I enjoyed the book. It was fun to read a story set in Los Angeles with quite a cast of characters. Each character was special and their interactions involving. 1 1\n",
      "\n",
      "Debbie can't write a bad book. The only reason I gave it a 4 is that I didn't like it as well as others like the Cedar Cove Series. 1 0\n",
      "\n",
      "This book helped me realize that there are many avenues and reasons to heal yourself and that sometimes we all need a gentle, or not so gentle, wake-up call. 1 0\n",
      "\n",
      "I payed $8 for all four books. I'm very satisfied with the price and books. The books were in better condition than described. I recommend everyone read these classics. 1 1\n",
      "\n",
      "It read like a historical novel. The various facts presented regarding science, medicine, etc. and how they were started by the catholic church mostly through the local religious groups. 1 1\n",
      "\n",
      "My nephew, over 21, requested this book for a birthday. I ordered it, but what depressing trash! I sent it but not for birthday. Hopefully, he'll be repulsed, too. 0 0\n",
      "\n",
      "I am a childbirth instructor and doula. I was looking for ways to expand my knowledge of birth and motherhood with an herbal perspective. This was definitely that book! 1 1\n",
      "\n",
      "The first few pages seem to highlight the whole book and leave the reader with no desire to read the rest of it. Language is somewhat \"elitist\" and academic. 0 0\n",
      "\n",
      "Two stars because the book started out reasonably good but after that a total downhill progression. Sorry I waste my time reading to the end, one can always hope. 0 0\n",
      "\n",
      "I was poisoned and then hacked bludgeoned drawn hung quartered by The Arrow. I bled. Too close to an artery, but then I too have eaten of human heart. 1 0\n",
      "\n",
      "I was disappointed with this book. My least favorite of all of her stories. I anticipated a special Christmas novel but got a tutorial on PTSD. Good ending tho. 0 0\n",
      "\n",
      "The story wasn't what I was expecting at all, and I didn't enjoy it. There was a lot of repetition throughout the story, which made it seem very short. 0 0\n",
      "\n",
      "This sequel was such a disappointment. I admit Me Before You is hard to follow but this just went in a completely different direction that I did not enjoy. 0 0\n",
      "\n",
      "Tediously told. Too many \"have I earned desserts.\" Characters introduced at the end in a hurriedly manor, as though the page quota had been met and the end was now. 0 0\n",
      "\n",
      "A good non-fiction book. It enlightened me to the conspiracies and cover-ups in America over the last 50 years. However, the author does not reveal the sources of his facts. 1 0\n",
      "\n",
      "Actually, an excellent read that is typical of DB. I wouldn't mind another King and Maxwell book, and of course more Virgil \"_uckin\" Flowers books. He's a cool dude too. 1 1\n",
      "\n",
      "It was a good read. A little slow for me at times but I still kept reading. I wish it wouldn't have taken so long to get to the plot. 1 0\n",
      "\n",
      "too much info on lots of other stuff except what is happening to the family - keep reading and putting it down for a few weeks - disappointing to me 0 0\n",
      "\n",
      "I read this book as part of my Masters in Special Ed course for a book review. I liked that it is written for parents, teachers, and peers. Good information! 1 1\n",
      "\n",
      "I learned a lot. I understood the steps taken to hide the issue from the world. Easy to read I couldn't stop. Interested to see what else she has written. 1 1\n",
      "\n",
      "do not buy or read this if you've read notes from the field. It's all in that book. this is a crap cash grab and not at all worth it. 0 0\n",
      "\n",
      "The book seems well made and in good shape but it goes from page 119 to 151 and then repeats 151 to the final end of the book. Printers error?? 0 1\n",
      "\n",
      "It took me a long time to finish this book. It never hooked me, I'd read 10 minutes and put it away. I wouldn't read any more of the series 0 0\n",
      "\n",
      "When I can.get lost.in the characters lives.and forget my problems for a while it is worth so much more.than money can buy...This book is great for escaping into for everyone. 1 1\n",
      "\n",
      "Reading this book made me want to go back into the woods and move slowly along the forest floor. I was reminded of the power of wilderness on us humans. 1 1\n",
      "\n",
      "Fascinating read! The Hunger Games in outer space. The pace is steady and the ending is horrifying. Any fan of Doctor Who or thought provoking science fiction will love it! 1 1\n",
      "\n",
      "This was a very helpful supplement to the textbook. In my case, the professor assigned few problems from the text, and I wanted more practice. This study guide provided that. 1 1\n"
     ]
    }
   ],
   "source": [
    "sent_dev_df['wc'] = sent_dev_df['text'].apply(lambda x: len(x.split()))\n",
    "\n",
    "samples = sent_dev_df.query(\"wc<=30\").groupby(by=['label']).sample(200, random_state=4).sort_values(by=['wc'])\n",
    "att_data = []\n",
    "\n",
    "for idx, row in samples.iterrows():\n",
    "    text = row['text']\n",
    "    label = row['label']\n",
    "    pred, tokens, attn = get_label_and_weights(text)\n",
    "    att_data.append({'pred':pred, \"tokens\":tokens, \"w\":attn, \"actual\":label})\n",
    "    acc = 1 if label == pred else 0\n",
    "    print()\n",
    "    print(text, label, pred)\n",
    "    \n",
    "at_df = pd.DataFrame(att_data)\n",
    "at_df['acc'] = (at_df['pred'] == at_df['actual']).astype(int)"
   ]
  },
  {
   "cell_type": "code",
   "execution_count": 272,
   "metadata": {},
   "outputs": [
    {
     "data": {
      "image/png": "[encoded data removed]",
      "text/plain": [
       "<Figure size 864x288 with 2 Axes>"
      ]
     },
     "metadata": {
      "needs_background": "light"
     },
     "output_type": "display_data"
    }
   ],
   "source": [
    "# positive\n",
    "s = \"Love Celia Kyle's books, buy it you won't regret it\"\n",
    "pred, tokens, attn = get_label_and_weights(s)\n",
    "visualize_attention(tokens, attn)"
   ]
  },
  {
   "cell_type": "code",
   "execution_count": 273,
   "metadata": {},
   "outputs": [
    {
     "data": {
      "image/png": "[encoded data removed]",
      "text/plain": [
       "<Figure size 792x288 with 2 Axes>"
      ]
     },
     "metadata": {
      "needs_background": "light"
     },
     "output_type": "display_data"
    }
   ],
   "source": [
    "# negative, mispredicted\n",
    "s = \"Characters were uninteresting. Almost put it down for good but persevered\"\n",
    "pred, tokens, attn = get_label_and_weights(s)\n",
    "visualize_attention(tokens, attn)"
   ]
  },
  {
   "cell_type": "code",
   "execution_count": 278,
   "metadata": {},
   "outputs": [
    {
     "data": {
      "image/png": "[encoded data removed]",
      "text/plain": [
       "<Figure size 1008x288 with 2 Axes>"
      ]
     },
     "metadata": {
      "needs_background": "light"
     },
     "output_type": "display_data"
    }
   ],
   "source": [
    "# positive, mispredicted\n",
    "s = \"\"\"my Husband is really enjoying this one!!! \"It's not just cutesy\" he says\"\"\"\n",
    "pred, tokens, attn = get_label_and_weights(s)\n",
    "visualize_attention(tokens, attn)"
   ]
  },
  {
   "cell_type": "code",
   "execution_count": 277,
   "metadata": {},
   "outputs": [
    {
     "data": {
      "image/png": "[encoded data removed]",
      "text/plain": [
       "<Figure size 1080x288 with 2 Axes>"
      ]
     },
     "metadata": {
      "needs_background": "light"
     },
     "output_type": "display_data"
    }
   ],
   "source": [
    "# negative, correct\n",
    "s = \"Boring I read a few hundred pages and still did not get into the plot!!!\"\n",
    "pred, tokens, attn = get_label_and_weights(s)\n",
    "visualize_attention(tokens, attn)"
   ]
  },
  {
   "cell_type": "code",
   "execution_count": 280,
   "metadata": {},
   "outputs": [
    {
     "data": {
      "image/png": "[encoded data removed]",
      "text/plain": [
       "<Figure size 1584x288 with 2 Axes>"
      ]
     },
     "metadata": {
      "needs_background": "light"
     },
     "output_type": "display_data"
    }
   ],
   "source": [
    "\n",
    "\n",
    "# negative, incorrect\n",
    "s = \"\"\"Well written....And extremely fluffy without much real detail. I would be much better watching a 5 minute You Tube \"How To...\".\"\"\"\n",
    "pred, tokens, attn = get_label_and_weights(s)\n",
    "visualize_attention(tokens, attn)"
   ]
  },
  {
   "cell_type": "markdown",
   "metadata": {},
   "source": [
    "# Optional TODOs:\n",
    "\n",
    "### How many instances do we need to learn?\n",
    "\n",
    "Since the word2vec vectors capture word meaning, do we need to see a lot of examples to train an effective classifier? Maybe we can get away with fewer (or not?). Try making a plot that shows the performance of training on 1 epoch with varying numbers of training examples. What if we just had 10 examples? 100? 1000? \n",
    "\n",
    "### Make the \"important word\" vectors learn different attentions\n",
    "\n",
    "If your attention vectors are learning to look at similar words, we could try to add some structure to how we learn so these vectors become dissimilar. One idea is to penalize the model according to how similar each head's vector is to the others. You could use cosine similarity or MSE or any weighting function. For example, you could add the cosine similarities of each pair to the `loss` so that the model benefits from learning orthoginal or dissimlar vectors. Would this help? \n",
    "\n",
    "### Add more layers to the network\n",
    "\n",
    "This is the second easiest one, but can be fun. What if you add more layers after you aggregate? Does letting the different attention heads' representations interact give better performance? Find out!\n",
    "\n",
    "### Change the learning rate dynamically\n",
    "\n",
    "We have a fixed learning rate, but what if we wanted to decrease the learning rate as the model starts to converge? In many cases, this can help the model take smaller but more precise steps towards the best possible parameters. PyTorch supports this with _learning rate schedulers_ that tell pytorch how and when to change the learning rate. See if you can get a better performance using a scheduler!\n",
    "\n",
    "### Add support for batch sizes > 1\n",
    "\n",
    "This is non-trivial but will increase training speed _a lot_. The main issue with increasing batch sizes is that our input sequences (the word ids) in a batch will have different lengths. Under the hood, pytorch is turning your code into a series of very fast matrix operations. However, if those matrices suddenly have difference sizes, the math no longer works. As a result developers (like us) have to do a few things:\n",
    "\n",
    "* We need to _pad_ the sequences with empty values so that all sequences have the same length. You could do this by  adding an extra word ID that is the \"empty token\" and make sure its values are set to 0 (so it won't interact with anything)\n",
    "\n",
    "* Set up a collate function in our DataLoader that automatically pads each batch's data based on the longest length in the batch\n",
    "\n",
    "* At inference time, it's also efficient to mask part of the sequence that's the padded part so we ignore the computations for that part in anything downstream. Depending on how you set it up, you may be able to avoid this step.\n",
    "\n",
    "If you want to dig into this, you might see some of the documentation around packed and padded sequences in pytorch. You won't need to use these functions but they can provide more context for what's happening and why.\n",
    "\n",
    "\n",
    "### Add positional information to the word embeddings\n",
    "\n",
    "Right now our model doesn't know much about which order the words are in. What if we helped the model in this? One way that people have done this is to _add_ some positional embedding to the word embedding, where the positional embedding represents which position in the sequence is in. There are many complicated schemes for this, but one potential idea is to _learn the positional embeddings_. You would keep a separate `Embedding` object for positions with the number of positions up to the length of your longest sequence in the data. Then for the word in the first position, you add `position_embeddings(0)` to it. You can definitely speed that up by passing in a sequence of the positions in the current input and, conveniently, pytorch will let you easily add all the position embeddings to the word embeddings easily (no for loop required).\n",
    "\n",
    "Will it help here? I have no idea but I'm curious.\n",
    "\n",
    "\n",
    "**No extra credit is given for these; they're just for folks who want to explore more**"
   ]
  },
  {
   "cell_type": "code",
   "execution_count": null,
   "metadata": {},
   "outputs": [],
   "source": []
  }
 ],
 "metadata": {
  "kernelspec": {
   "display_name": "Python 3 (ipykernel)",
   "language": "python",
   "name": "python3"
  },
  "language_info": {
   "codemirror_mode": {
    "name": "ipython",
    "version": 3
   },
   "file_extension": ".py",
   "mimetype": "text/x-python",
   "name": "python",
   "nbconvert_exporter": "python",
   "pygments_lexer": "ipython3",
   "version": "3.9.7"
  }
 },
 "nbformat": 4,
 "nbformat_minor": 4
}
